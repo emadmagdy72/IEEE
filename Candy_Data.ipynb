{
 "cells": [
  {
   "cell_type": "code",
   "execution_count": 1,
   "id": "2a72200f",
   "metadata": {},
   "outputs": [],
   "source": [
    "import numpy as np\n",
    "import pandas as pd\n",
    "import matplotlib.pyplot as plt\n",
    "import seaborn as sns\n",
    "%matplotlib inline\n",
    "sns.set()"
   ]
  },
  {
   "cell_type": "code",
   "execution_count": 2,
   "id": "f9fd61da",
   "metadata": {},
   "outputs": [
    {
     "name": "stderr",
     "output_type": "stream",
     "text": [
      "C:\\ProgramData\\Anaconda3\\lib\\site-packages\\openpyxl\\worksheet\\_reader.py:312: UserWarning: Unknown extension is not supported and will be removed\n",
      "  warn(msg)\n"
     ]
    },
    {
     "data": {
      "text/html": [
       "<div>\n",
       "<style scoped>\n",
       "    .dataframe tbody tr th:only-of-type {\n",
       "        vertical-align: middle;\n",
       "    }\n",
       "\n",
       "    .dataframe tbody tr th {\n",
       "        vertical-align: top;\n",
       "    }\n",
       "\n",
       "    .dataframe thead th {\n",
       "        text-align: right;\n",
       "    }\n",
       "</style>\n",
       "<table border=\"1\" class=\"dataframe\">\n",
       "  <thead>\n",
       "    <tr style=\"text-align: right;\">\n",
       "      <th></th>\n",
       "      <th>Internal ID</th>\n",
       "      <th>Q1: GOING OUT?</th>\n",
       "      <th>Q2: GENDER</th>\n",
       "      <th>Q3: AGE</th>\n",
       "      <th>Q4: COUNTRY</th>\n",
       "      <th>Q5: STATE, PROVINCE, COUNTY, ETC</th>\n",
       "      <th>Q6 | 100 Grand Bar</th>\n",
       "      <th>Q6 | Anonymous brown globs that come in black and orange wrappers\\t(a.k.a. Mary Janes)</th>\n",
       "      <th>Q6 | Any full-sized candy bar</th>\n",
       "      <th>Q6 | Black Jacks</th>\n",
       "      <th>...</th>\n",
       "      <th>Q8: DESPAIR OTHER</th>\n",
       "      <th>Q9: OTHER COMMENTS</th>\n",
       "      <th>Q10: DRESS</th>\n",
       "      <th>Unnamed: 113</th>\n",
       "      <th>Q11: DAY</th>\n",
       "      <th>Q12: MEDIA [Daily Dish]</th>\n",
       "      <th>Q12: MEDIA [Science]</th>\n",
       "      <th>Q12: MEDIA [ESPN]</th>\n",
       "      <th>Q12: MEDIA [Yahoo]</th>\n",
       "      <th>Click Coordinates (x, y)</th>\n",
       "    </tr>\n",
       "  </thead>\n",
       "  <tbody>\n",
       "    <tr>\n",
       "      <th>0</th>\n",
       "      <td>90258773</td>\n",
       "      <td>NaN</td>\n",
       "      <td>NaN</td>\n",
       "      <td>NaN</td>\n",
       "      <td>NaN</td>\n",
       "      <td>NaN</td>\n",
       "      <td>NaN</td>\n",
       "      <td>NaN</td>\n",
       "      <td>NaN</td>\n",
       "      <td>NaN</td>\n",
       "      <td>...</td>\n",
       "      <td>NaN</td>\n",
       "      <td>NaN</td>\n",
       "      <td>NaN</td>\n",
       "      <td>NaN</td>\n",
       "      <td>NaN</td>\n",
       "      <td>NaN</td>\n",
       "      <td>NaN</td>\n",
       "      <td>NaN</td>\n",
       "      <td>NaN</td>\n",
       "      <td>NaN</td>\n",
       "    </tr>\n",
       "    <tr>\n",
       "      <th>1</th>\n",
       "      <td>90272821</td>\n",
       "      <td>No</td>\n",
       "      <td>Male</td>\n",
       "      <td>44</td>\n",
       "      <td>USA</td>\n",
       "      <td>NM</td>\n",
       "      <td>MEH</td>\n",
       "      <td>DESPAIR</td>\n",
       "      <td>JOY</td>\n",
       "      <td>MEH</td>\n",
       "      <td>...</td>\n",
       "      <td>NaN</td>\n",
       "      <td>Bottom line is Twix is really the only candy w...</td>\n",
       "      <td>White and gold</td>\n",
       "      <td>NaN</td>\n",
       "      <td>Sunday</td>\n",
       "      <td>NaN</td>\n",
       "      <td>1.0</td>\n",
       "      <td>NaN</td>\n",
       "      <td>NaN</td>\n",
       "      <td>(84, 25)</td>\n",
       "    </tr>\n",
       "    <tr>\n",
       "      <th>2</th>\n",
       "      <td>90272829</td>\n",
       "      <td>NaN</td>\n",
       "      <td>Male</td>\n",
       "      <td>49</td>\n",
       "      <td>USA</td>\n",
       "      <td>Virginia</td>\n",
       "      <td>NaN</td>\n",
       "      <td>NaN</td>\n",
       "      <td>NaN</td>\n",
       "      <td>NaN</td>\n",
       "      <td>...</td>\n",
       "      <td>NaN</td>\n",
       "      <td>NaN</td>\n",
       "      <td>NaN</td>\n",
       "      <td>NaN</td>\n",
       "      <td>NaN</td>\n",
       "      <td>NaN</td>\n",
       "      <td>NaN</td>\n",
       "      <td>NaN</td>\n",
       "      <td>NaN</td>\n",
       "      <td>NaN</td>\n",
       "    </tr>\n",
       "    <tr>\n",
       "      <th>3</th>\n",
       "      <td>90272840</td>\n",
       "      <td>No</td>\n",
       "      <td>Male</td>\n",
       "      <td>40</td>\n",
       "      <td>us</td>\n",
       "      <td>or</td>\n",
       "      <td>MEH</td>\n",
       "      <td>DESPAIR</td>\n",
       "      <td>JOY</td>\n",
       "      <td>MEH</td>\n",
       "      <td>...</td>\n",
       "      <td>NaN</td>\n",
       "      <td>Raisins can go to hell</td>\n",
       "      <td>White and gold</td>\n",
       "      <td>NaN</td>\n",
       "      <td>Sunday</td>\n",
       "      <td>NaN</td>\n",
       "      <td>1.0</td>\n",
       "      <td>NaN</td>\n",
       "      <td>NaN</td>\n",
       "      <td>(75, 23)</td>\n",
       "    </tr>\n",
       "    <tr>\n",
       "      <th>4</th>\n",
       "      <td>90272841</td>\n",
       "      <td>No</td>\n",
       "      <td>Male</td>\n",
       "      <td>23</td>\n",
       "      <td>usa</td>\n",
       "      <td>exton pa</td>\n",
       "      <td>JOY</td>\n",
       "      <td>DESPAIR</td>\n",
       "      <td>JOY</td>\n",
       "      <td>DESPAIR</td>\n",
       "      <td>...</td>\n",
       "      <td>NaN</td>\n",
       "      <td>NaN</td>\n",
       "      <td>White and gold</td>\n",
       "      <td>NaN</td>\n",
       "      <td>Friday</td>\n",
       "      <td>NaN</td>\n",
       "      <td>1.0</td>\n",
       "      <td>NaN</td>\n",
       "      <td>NaN</td>\n",
       "      <td>(70, 10)</td>\n",
       "    </tr>\n",
       "  </tbody>\n",
       "</table>\n",
       "<p>5 rows × 120 columns</p>\n",
       "</div>"
      ],
      "text/plain": [
       "   Internal ID Q1: GOING OUT? Q2: GENDER Q3: AGE Q4: COUNTRY  \\\n",
       "0     90258773            NaN        NaN     NaN         NaN   \n",
       "1     90272821             No       Male      44        USA    \n",
       "2     90272829            NaN       Male      49         USA   \n",
       "3     90272840             No       Male      40          us   \n",
       "4     90272841             No       Male      23         usa   \n",
       "\n",
       "  Q5: STATE, PROVINCE, COUNTY, ETC Q6 | 100 Grand Bar  \\\n",
       "0                              NaN                NaN   \n",
       "1                               NM                MEH   \n",
       "2                         Virginia                NaN   \n",
       "3                               or                MEH   \n",
       "4                         exton pa                JOY   \n",
       "\n",
       "  Q6 | Anonymous brown globs that come in black and orange wrappers\\t(a.k.a. Mary Janes)  \\\n",
       "0                                                NaN                                       \n",
       "1                                            DESPAIR                                       \n",
       "2                                                NaN                                       \n",
       "3                                            DESPAIR                                       \n",
       "4                                            DESPAIR                                       \n",
       "\n",
       "  Q6 | Any full-sized candy bar Q6 | Black Jacks  ... Q8: DESPAIR OTHER  \\\n",
       "0                           NaN              NaN  ...               NaN   \n",
       "1                           JOY              MEH  ...               NaN   \n",
       "2                           NaN              NaN  ...               NaN   \n",
       "3                           JOY              MEH  ...               NaN   \n",
       "4                           JOY          DESPAIR  ...               NaN   \n",
       "\n",
       "                                  Q9: OTHER COMMENTS      Q10: DRESS  \\\n",
       "0                                                NaN             NaN   \n",
       "1  Bottom line is Twix is really the only candy w...  White and gold   \n",
       "2                                                NaN             NaN   \n",
       "3                             Raisins can go to hell  White and gold   \n",
       "4                                                NaN  White and gold   \n",
       "\n",
       "  Unnamed: 113 Q11: DAY Q12: MEDIA [Daily Dish] Q12: MEDIA [Science]  \\\n",
       "0          NaN      NaN                     NaN                  NaN   \n",
       "1          NaN   Sunday                     NaN                  1.0   \n",
       "2          NaN      NaN                     NaN                  NaN   \n",
       "3          NaN   Sunday                     NaN                  1.0   \n",
       "4          NaN   Friday                     NaN                  1.0   \n",
       "\n",
       "  Q12: MEDIA [ESPN] Q12: MEDIA [Yahoo] Click Coordinates (x, y)  \n",
       "0               NaN                NaN                      NaN  \n",
       "1               NaN                NaN                 (84, 25)  \n",
       "2               NaN                NaN                      NaN  \n",
       "3               NaN                NaN                 (75, 23)  \n",
       "4               NaN                NaN                 (70, 10)  \n",
       "\n",
       "[5 rows x 120 columns]"
      ]
     },
     "execution_count": 2,
     "metadata": {},
     "output_type": "execute_result"
    }
   ],
   "source": [
    "df = pd.read_excel('Data_candyhierarchy2017.xlsx')\n",
    "df.head()"
   ]
  },
  {
   "cell_type": "code",
   "execution_count": 3,
   "id": "623d993d",
   "metadata": {},
   "outputs": [
    {
     "data": {
      "text/plain": [
       "Internal ID                    0\n",
       "Q1: GOING OUT?               110\n",
       "Q2: GENDER                    41\n",
       "Q3: AGE                       84\n",
       "Q4: COUNTRY                   64\n",
       "                            ... \n",
       "Q12: MEDIA [Daily Dish]     2375\n",
       "Q12: MEDIA [Science]        1098\n",
       "Q12: MEDIA [ESPN]           2361\n",
       "Q12: MEDIA [Yahoo]          2393\n",
       "Click Coordinates (x, y)     855\n",
       "Length: 120, dtype: int64"
      ]
     },
     "execution_count": 3,
     "metadata": {},
     "output_type": "execute_result"
    }
   ],
   "source": [
    "df.isna().sum()"
   ]
  },
  {
   "cell_type": "code",
   "execution_count": 4,
   "id": "a441991c",
   "metadata": {},
   "outputs": [],
   "source": [
    "df.drop(columns=['Internal ID'],inplace=True)"
   ]
  },
  {
   "cell_type": "code",
   "execution_count": 5,
   "id": "9be6667e",
   "metadata": {},
   "outputs": [
    {
     "data": {
      "text/plain": [
       "Unnamed: 113                 2451\n",
       "Q12: MEDIA [Yahoo]           2393\n",
       "Q12: MEDIA [Daily Dish]      2375\n",
       "Q12: MEDIA [ESPN]            2361\n",
       "Q9: OTHER COMMENTS           2074\n",
       "Q8: DESPAIR OTHER            1743\n",
       "Q7: JOY OTHER                1549\n",
       "Q12: MEDIA [Science]         1098\n",
       "Q6 | JoyJoy (Mit Iodine!)    1026\n",
       "Q6 | Maynards                1024\n",
       "dtype: int64"
      ]
     },
     "execution_count": 5,
     "metadata": {},
     "output_type": "execute_result"
    }
   ],
   "source": [
    "df.isna().sum().sort_values(ascending=False).head(10)"
   ]
  },
  {
   "cell_type": "code",
   "execution_count": 6,
   "id": "eb09c3ae",
   "metadata": {},
   "outputs": [],
   "source": [
    "df.drop(columns=['Unnamed: 113','Q12: MEDIA [Yahoo]','Q12: MEDIA [Daily Dish]','Q12: MEDIA [ESPN]',\n",
    "                'Q9: OTHER COMMENTS','Q8: DESPAIR OTHER','Q7: JOY OTHER','Q12: MEDIA [Science]'],inplace=True)"
   ]
  },
  {
   "cell_type": "code",
   "execution_count": 7,
   "id": "7a8f4ba0",
   "metadata": {},
   "outputs": [],
   "source": [
    "Q6 = df.columns[df.columns.str.contains('Q6')]"
   ]
  },
  {
   "cell_type": "code",
   "execution_count": 8,
   "id": "f6a74335",
   "metadata": {},
   "outputs": [],
   "source": [
    "df_Q6 = df.loc[:,Q6]"
   ]
  },
  {
   "cell_type": "code",
   "execution_count": 9,
   "id": "a25b1384",
   "metadata": {},
   "outputs": [
    {
     "data": {
      "text/html": [
       "<div>\n",
       "<style scoped>\n",
       "    .dataframe tbody tr th:only-of-type {\n",
       "        vertical-align: middle;\n",
       "    }\n",
       "\n",
       "    .dataframe tbody tr th {\n",
       "        vertical-align: top;\n",
       "    }\n",
       "\n",
       "    .dataframe thead th {\n",
       "        text-align: right;\n",
       "    }\n",
       "</style>\n",
       "<table border=\"1\" class=\"dataframe\">\n",
       "  <thead>\n",
       "    <tr style=\"text-align: right;\">\n",
       "      <th></th>\n",
       "      <th>Q6 | 100 Grand Bar</th>\n",
       "      <th>Q6 | Anonymous brown globs that come in black and orange wrappers\\t(a.k.a. Mary Janes)</th>\n",
       "      <th>Q6 | Any full-sized candy bar</th>\n",
       "      <th>Q6 | Black Jacks</th>\n",
       "      <th>Q6 | Bonkers (the candy)</th>\n",
       "      <th>Q6 | Bonkers (the board game)</th>\n",
       "      <th>Q6 | Bottle Caps</th>\n",
       "      <th>Q6 | Box'o'Raisins</th>\n",
       "      <th>Q6 | Broken glow stick</th>\n",
       "      <th>Q6 | Butterfinger</th>\n",
       "      <th>...</th>\n",
       "      <th>Q6 | Three Musketeers</th>\n",
       "      <th>Q6 | Tolberone something or other</th>\n",
       "      <th>Q6 | Trail Mix</th>\n",
       "      <th>Q6 | Twix</th>\n",
       "      <th>Q6 | Vials of pure high fructose corn syrup, for main-lining into your vein</th>\n",
       "      <th>Q6 | Vicodin</th>\n",
       "      <th>Q6 | Whatchamacallit Bars</th>\n",
       "      <th>Q6 | White Bread</th>\n",
       "      <th>Q6 | Whole Wheat anything</th>\n",
       "      <th>Q6 | York Peppermint Patties</th>\n",
       "    </tr>\n",
       "  </thead>\n",
       "  <tbody>\n",
       "    <tr>\n",
       "      <th>0</th>\n",
       "      <td>NaN</td>\n",
       "      <td>NaN</td>\n",
       "      <td>NaN</td>\n",
       "      <td>NaN</td>\n",
       "      <td>NaN</td>\n",
       "      <td>NaN</td>\n",
       "      <td>NaN</td>\n",
       "      <td>NaN</td>\n",
       "      <td>NaN</td>\n",
       "      <td>NaN</td>\n",
       "      <td>...</td>\n",
       "      <td>NaN</td>\n",
       "      <td>NaN</td>\n",
       "      <td>NaN</td>\n",
       "      <td>NaN</td>\n",
       "      <td>NaN</td>\n",
       "      <td>NaN</td>\n",
       "      <td>NaN</td>\n",
       "      <td>NaN</td>\n",
       "      <td>NaN</td>\n",
       "      <td>NaN</td>\n",
       "    </tr>\n",
       "    <tr>\n",
       "      <th>1</th>\n",
       "      <td>MEH</td>\n",
       "      <td>DESPAIR</td>\n",
       "      <td>JOY</td>\n",
       "      <td>MEH</td>\n",
       "      <td>DESPAIR</td>\n",
       "      <td>DESPAIR</td>\n",
       "      <td>DESPAIR</td>\n",
       "      <td>DESPAIR</td>\n",
       "      <td>DESPAIR</td>\n",
       "      <td>DESPAIR</td>\n",
       "      <td>...</td>\n",
       "      <td>JOY</td>\n",
       "      <td>JOY</td>\n",
       "      <td>DESPAIR</td>\n",
       "      <td>JOY</td>\n",
       "      <td>DESPAIR</td>\n",
       "      <td>DESPAIR</td>\n",
       "      <td>DESPAIR</td>\n",
       "      <td>DESPAIR</td>\n",
       "      <td>DESPAIR</td>\n",
       "      <td>DESPAIR</td>\n",
       "    </tr>\n",
       "    <tr>\n",
       "      <th>2</th>\n",
       "      <td>NaN</td>\n",
       "      <td>NaN</td>\n",
       "      <td>NaN</td>\n",
       "      <td>NaN</td>\n",
       "      <td>NaN</td>\n",
       "      <td>NaN</td>\n",
       "      <td>NaN</td>\n",
       "      <td>NaN</td>\n",
       "      <td>NaN</td>\n",
       "      <td>NaN</td>\n",
       "      <td>...</td>\n",
       "      <td>NaN</td>\n",
       "      <td>NaN</td>\n",
       "      <td>NaN</td>\n",
       "      <td>NaN</td>\n",
       "      <td>NaN</td>\n",
       "      <td>NaN</td>\n",
       "      <td>NaN</td>\n",
       "      <td>NaN</td>\n",
       "      <td>NaN</td>\n",
       "      <td>NaN</td>\n",
       "    </tr>\n",
       "    <tr>\n",
       "      <th>3</th>\n",
       "      <td>MEH</td>\n",
       "      <td>DESPAIR</td>\n",
       "      <td>JOY</td>\n",
       "      <td>MEH</td>\n",
       "      <td>MEH</td>\n",
       "      <td>DESPAIR</td>\n",
       "      <td>MEH</td>\n",
       "      <td>DESPAIR</td>\n",
       "      <td>DESPAIR</td>\n",
       "      <td>MEH</td>\n",
       "      <td>...</td>\n",
       "      <td>DESPAIR</td>\n",
       "      <td>JOY</td>\n",
       "      <td>MEH</td>\n",
       "      <td>JOY</td>\n",
       "      <td>DESPAIR</td>\n",
       "      <td>JOY</td>\n",
       "      <td>JOY</td>\n",
       "      <td>DESPAIR</td>\n",
       "      <td>DESPAIR</td>\n",
       "      <td>DESPAIR</td>\n",
       "    </tr>\n",
       "    <tr>\n",
       "      <th>4</th>\n",
       "      <td>JOY</td>\n",
       "      <td>DESPAIR</td>\n",
       "      <td>JOY</td>\n",
       "      <td>DESPAIR</td>\n",
       "      <td>MEH</td>\n",
       "      <td>DESPAIR</td>\n",
       "      <td>MEH</td>\n",
       "      <td>DESPAIR</td>\n",
       "      <td>DESPAIR</td>\n",
       "      <td>MEH</td>\n",
       "      <td>...</td>\n",
       "      <td>JOY</td>\n",
       "      <td>JOY</td>\n",
       "      <td>DESPAIR</td>\n",
       "      <td>JOY</td>\n",
       "      <td>MEH</td>\n",
       "      <td>JOY</td>\n",
       "      <td>JOY</td>\n",
       "      <td>DESPAIR</td>\n",
       "      <td>DESPAIR</td>\n",
       "      <td>JOY</td>\n",
       "    </tr>\n",
       "  </tbody>\n",
       "</table>\n",
       "<p>5 rows × 103 columns</p>\n",
       "</div>"
      ],
      "text/plain": [
       "  Q6 | 100 Grand Bar  \\\n",
       "0                NaN   \n",
       "1                MEH   \n",
       "2                NaN   \n",
       "3                MEH   \n",
       "4                JOY   \n",
       "\n",
       "  Q6 | Anonymous brown globs that come in black and orange wrappers\\t(a.k.a. Mary Janes)  \\\n",
       "0                                                NaN                                       \n",
       "1                                            DESPAIR                                       \n",
       "2                                                NaN                                       \n",
       "3                                            DESPAIR                                       \n",
       "4                                            DESPAIR                                       \n",
       "\n",
       "  Q6 | Any full-sized candy bar Q6 | Black Jacks Q6 | Bonkers (the candy)  \\\n",
       "0                           NaN              NaN                      NaN   \n",
       "1                           JOY              MEH                  DESPAIR   \n",
       "2                           NaN              NaN                      NaN   \n",
       "3                           JOY              MEH                      MEH   \n",
       "4                           JOY          DESPAIR                      MEH   \n",
       "\n",
       "  Q6 | Bonkers (the board game) Q6 | Bottle Caps Q6 | Box'o'Raisins  \\\n",
       "0                           NaN              NaN                NaN   \n",
       "1                       DESPAIR          DESPAIR            DESPAIR   \n",
       "2                           NaN              NaN                NaN   \n",
       "3                       DESPAIR              MEH            DESPAIR   \n",
       "4                       DESPAIR              MEH            DESPAIR   \n",
       "\n",
       "  Q6 | Broken glow stick Q6 | Butterfinger  ... Q6 | Three Musketeers  \\\n",
       "0                    NaN               NaN  ...                   NaN   \n",
       "1                DESPAIR           DESPAIR  ...                   JOY   \n",
       "2                    NaN               NaN  ...                   NaN   \n",
       "3                DESPAIR               MEH  ...               DESPAIR   \n",
       "4                DESPAIR               MEH  ...                   JOY   \n",
       "\n",
       "  Q6 | Tolberone something or other Q6 | Trail Mix Q6 | Twix  \\\n",
       "0                               NaN            NaN       NaN   \n",
       "1                               JOY        DESPAIR       JOY   \n",
       "2                               NaN            NaN       NaN   \n",
       "3                               JOY            MEH       JOY   \n",
       "4                               JOY        DESPAIR       JOY   \n",
       "\n",
       "  Q6 | Vials of pure high fructose corn syrup, for main-lining into your vein  \\\n",
       "0                                                NaN                            \n",
       "1                                            DESPAIR                            \n",
       "2                                                NaN                            \n",
       "3                                            DESPAIR                            \n",
       "4                                                MEH                            \n",
       "\n",
       "  Q6 | Vicodin Q6 | Whatchamacallit Bars Q6 | White Bread  \\\n",
       "0          NaN                       NaN              NaN   \n",
       "1      DESPAIR                   DESPAIR          DESPAIR   \n",
       "2          NaN                       NaN              NaN   \n",
       "3          JOY                       JOY          DESPAIR   \n",
       "4          JOY                       JOY          DESPAIR   \n",
       "\n",
       "  Q6 | Whole Wheat anything Q6 | York Peppermint Patties  \n",
       "0                       NaN                          NaN  \n",
       "1                   DESPAIR                      DESPAIR  \n",
       "2                       NaN                          NaN  \n",
       "3                   DESPAIR                      DESPAIR  \n",
       "4                   DESPAIR                          JOY  \n",
       "\n",
       "[5 rows x 103 columns]"
      ]
     },
     "execution_count": 9,
     "metadata": {},
     "output_type": "execute_result"
    }
   ],
   "source": [
    "df_Q6.head()"
   ]
  },
  {
   "cell_type": "code",
   "execution_count": 10,
   "id": "f823e2fd",
   "metadata": {},
   "outputs": [],
   "source": [
    "df.drop(columns=Q6,inplace=True)"
   ]
  },
  {
   "cell_type": "code",
   "execution_count": 11,
   "id": "54079fba",
   "metadata": {},
   "outputs": [],
   "source": [
    "df.drop_duplicates(inplace=True)"
   ]
  },
  {
   "cell_type": "code",
   "execution_count": 12,
   "id": "e60dd40e",
   "metadata": {},
   "outputs": [],
   "source": [
    "df.dropna(how='all', inplace=True)"
   ]
  },
  {
   "cell_type": "code",
   "execution_count": 13,
   "id": "f1229055",
   "metadata": {},
   "outputs": [
    {
     "data": {
      "text/html": [
       "<div>\n",
       "<style scoped>\n",
       "    .dataframe tbody tr th:only-of-type {\n",
       "        vertical-align: middle;\n",
       "    }\n",
       "\n",
       "    .dataframe tbody tr th {\n",
       "        vertical-align: top;\n",
       "    }\n",
       "\n",
       "    .dataframe thead th {\n",
       "        text-align: right;\n",
       "    }\n",
       "</style>\n",
       "<table border=\"1\" class=\"dataframe\">\n",
       "  <thead>\n",
       "    <tr style=\"text-align: right;\">\n",
       "      <th></th>\n",
       "      <th>Q1: GOING OUT?</th>\n",
       "      <th>Q2: GENDER</th>\n",
       "      <th>Q3: AGE</th>\n",
       "      <th>Q4: COUNTRY</th>\n",
       "      <th>Q5: STATE, PROVINCE, COUNTY, ETC</th>\n",
       "      <th>Q10: DRESS</th>\n",
       "      <th>Q11: DAY</th>\n",
       "      <th>Click Coordinates (x, y)</th>\n",
       "    </tr>\n",
       "  </thead>\n",
       "  <tbody>\n",
       "    <tr>\n",
       "      <th>1</th>\n",
       "      <td>No</td>\n",
       "      <td>Male</td>\n",
       "      <td>44</td>\n",
       "      <td>USA</td>\n",
       "      <td>NM</td>\n",
       "      <td>White and gold</td>\n",
       "      <td>Sunday</td>\n",
       "      <td>(84, 25)</td>\n",
       "    </tr>\n",
       "    <tr>\n",
       "      <th>2</th>\n",
       "      <td>NaN</td>\n",
       "      <td>Male</td>\n",
       "      <td>49</td>\n",
       "      <td>USA</td>\n",
       "      <td>Virginia</td>\n",
       "      <td>NaN</td>\n",
       "      <td>NaN</td>\n",
       "      <td>NaN</td>\n",
       "    </tr>\n",
       "    <tr>\n",
       "      <th>3</th>\n",
       "      <td>No</td>\n",
       "      <td>Male</td>\n",
       "      <td>40</td>\n",
       "      <td>us</td>\n",
       "      <td>or</td>\n",
       "      <td>White and gold</td>\n",
       "      <td>Sunday</td>\n",
       "      <td>(75, 23)</td>\n",
       "    </tr>\n",
       "    <tr>\n",
       "      <th>4</th>\n",
       "      <td>No</td>\n",
       "      <td>Male</td>\n",
       "      <td>23</td>\n",
       "      <td>usa</td>\n",
       "      <td>exton pa</td>\n",
       "      <td>White and gold</td>\n",
       "      <td>Friday</td>\n",
       "      <td>(70, 10)</td>\n",
       "    </tr>\n",
       "    <tr>\n",
       "      <th>5</th>\n",
       "      <td>No</td>\n",
       "      <td>Male</td>\n",
       "      <td>NaN</td>\n",
       "      <td>NaN</td>\n",
       "      <td>NaN</td>\n",
       "      <td>NaN</td>\n",
       "      <td>NaN</td>\n",
       "      <td>(75, 23)</td>\n",
       "    </tr>\n",
       "  </tbody>\n",
       "</table>\n",
       "</div>"
      ],
      "text/plain": [
       "  Q1: GOING OUT? Q2: GENDER Q3: AGE Q4: COUNTRY  \\\n",
       "1             No       Male      44        USA    \n",
       "2            NaN       Male      49         USA   \n",
       "3             No       Male      40          us   \n",
       "4             No       Male      23         usa   \n",
       "5             No       Male     NaN         NaN   \n",
       "\n",
       "  Q5: STATE, PROVINCE, COUNTY, ETC      Q10: DRESS Q11: DAY  \\\n",
       "1                               NM  White and gold   Sunday   \n",
       "2                         Virginia             NaN      NaN   \n",
       "3                               or  White and gold   Sunday   \n",
       "4                         exton pa  White and gold   Friday   \n",
       "5                              NaN             NaN      NaN   \n",
       "\n",
       "  Click Coordinates (x, y)  \n",
       "1                 (84, 25)  \n",
       "2                      NaN  \n",
       "3                 (75, 23)  \n",
       "4                 (70, 10)  \n",
       "5                 (75, 23)  "
      ]
     },
     "execution_count": 13,
     "metadata": {},
     "output_type": "execute_result"
    }
   ],
   "source": [
    "df.head()"
   ]
  },
  {
   "cell_type": "code",
   "execution_count": 14,
   "id": "ce53a314",
   "metadata": {},
   "outputs": [
    {
     "name": "stdout",
     "output_type": "stream",
     "text": [
      "<class 'pandas.core.frame.DataFrame'>\n",
      "Int64Index: 2422 entries, 1 to 2459\n",
      "Data columns (total 8 columns):\n",
      " #   Column                            Non-Null Count  Dtype \n",
      "---  ------                            --------------  ----- \n",
      " 0   Q1: GOING OUT?                    2335 non-null   object\n",
      " 1   Q2: GENDER                        2407 non-null   object\n",
      " 2   Q3: AGE                           2370 non-null   object\n",
      " 3   Q4: COUNTRY                       2390 non-null   object\n",
      " 4   Q5: STATE, PROVINCE, COUNTY, ETC  2354 non-null   object\n",
      " 5   Q10: DRESS                        1716 non-null   object\n",
      " 6   Q11: DAY                          1735 non-null   object\n",
      " 7   Click Coordinates (x, y)          1605 non-null   object\n",
      "dtypes: object(8)\n",
      "memory usage: 170.3+ KB\n"
     ]
    }
   ],
   "source": [
    "df.info()"
   ]
  },
  {
   "cell_type": "markdown",
   "id": "cebd0744",
   "metadata": {},
   "source": [
    "### Q1-Going Out?"
   ]
  },
  {
   "cell_type": "code",
   "execution_count": 15,
   "id": "734baa9b",
   "metadata": {},
   "outputs": [
    {
     "data": {
      "text/plain": [
       "No     2023\n",
       "Yes     312\n",
       "Name: Q1: GOING OUT?, dtype: int64"
      ]
     },
     "execution_count": 15,
     "metadata": {},
     "output_type": "execute_result"
    }
   ],
   "source": [
    "df['Q1: GOING OUT?'].value_counts()"
   ]
  },
  {
   "cell_type": "code",
   "execution_count": 16,
   "id": "c34ff1d1",
   "metadata": {},
   "outputs": [
    {
     "data": {
      "text/plain": [
       "87"
      ]
     },
     "execution_count": 16,
     "metadata": {},
     "output_type": "execute_result"
    }
   ],
   "source": [
    "df['Q1: GOING OUT?'].isna().sum()"
   ]
  },
  {
   "cell_type": "code",
   "execution_count": 17,
   "id": "ba8dbf9c",
   "metadata": {},
   "outputs": [],
   "source": [
    "df['Q1: GOING OUT?'].fillna('No',inplace=True)"
   ]
  },
  {
   "cell_type": "code",
   "execution_count": 18,
   "id": "638b846f",
   "metadata": {},
   "outputs": [
    {
     "data": {
      "text/plain": [
       "0"
      ]
     },
     "execution_count": 18,
     "metadata": {},
     "output_type": "execute_result"
    }
   ],
   "source": [
    "df['Q1: GOING OUT?'].isna().sum()"
   ]
  },
  {
   "cell_type": "markdown",
   "id": "d8e99ec9",
   "metadata": {},
   "source": [
    "### Q2-Gender"
   ]
  },
  {
   "cell_type": "code",
   "execution_count": 19,
   "id": "8a467aeb",
   "metadata": {},
   "outputs": [
    {
     "data": {
      "text/plain": [
       "Male                  1458\n",
       "Female                 838\n",
       "I'd rather not say      81\n",
       "Other                   30\n",
       "Name: Q2: GENDER, dtype: int64"
      ]
     },
     "execution_count": 19,
     "metadata": {},
     "output_type": "execute_result"
    }
   ],
   "source": [
    "df['Q2: GENDER'].value_counts()"
   ]
  },
  {
   "cell_type": "code",
   "execution_count": 20,
   "id": "29634f7a",
   "metadata": {},
   "outputs": [
    {
     "data": {
      "text/plain": [
       "15"
      ]
     },
     "execution_count": 20,
     "metadata": {},
     "output_type": "execute_result"
    }
   ],
   "source": [
    "df['Q2: GENDER'].isna().sum()"
   ]
  },
  {
   "cell_type": "code",
   "execution_count": 21,
   "id": "ee841ddb",
   "metadata": {},
   "outputs": [],
   "source": [
    "df['Q2: GENDER'].replace(['Other',\"I'd rather not say\"],'Not_Say',inplace=True)"
   ]
  },
  {
   "cell_type": "code",
   "execution_count": 22,
   "id": "3efb5ef6",
   "metadata": {},
   "outputs": [],
   "source": [
    "df['Q2: GENDER'].fillna('Not_Say',inplace=True)"
   ]
  },
  {
   "cell_type": "code",
   "execution_count": 23,
   "id": "2df3460a",
   "metadata": {},
   "outputs": [
    {
     "data": {
      "text/plain": [
       "0"
      ]
     },
     "execution_count": 23,
     "metadata": {},
     "output_type": "execute_result"
    }
   ],
   "source": [
    "df['Q2: GENDER'].isna().sum()"
   ]
  },
  {
   "cell_type": "markdown",
   "id": "adc0608c",
   "metadata": {},
   "source": [
    "### Q3-AGE"
   ]
  },
  {
   "cell_type": "code",
   "execution_count": 24,
   "id": "5a09a903",
   "metadata": {},
   "outputs": [
    {
     "data": {
      "text/plain": [
       "40                 92\n",
       "34                 90\n",
       "37                 89\n",
       "43                 86\n",
       "42                 79\n",
       "                   ..\n",
       "older than dirt     1\n",
       "5u                  1\n",
       "Enough              1\n",
       "See question 2      1\n",
       "60+                 1\n",
       "Name: Q3: AGE, Length: 106, dtype: int64"
      ]
     },
     "execution_count": 24,
     "metadata": {},
     "output_type": "execute_result"
    }
   ],
   "source": [
    "df['Q3: AGE'].value_counts()"
   ]
  },
  {
   "cell_type": "code",
   "execution_count": 25,
   "id": "2d1751c0",
   "metadata": {},
   "outputs": [
    {
     "data": {
      "text/plain": [
       "array([44, 49, 40, 23, nan, 53, 33, 43, 56, 64, 37, 59, 48, 54, 36, 45,\n",
       "       25, 34, 35, 38, 58, 50, 47, 16, 52, 63, 65, 41, 27, 31, 61, 46, 42,\n",
       "       62, 29, 39, 32, 28, 69, 67, 30, 22, 26, 51, 70, 24, 18, 19,\n",
       "       'Old enough', 57, 60, 66, 12, 'Many', 55, 72, '?', 21, 11, 'no', 9,\n",
       "       68, 20, 6, 10, 71, 90, 13, '45-55', 312, 99, 7, 'hahahahaha', 88,\n",
       "       39.4, 74, 102, 'older than dirt', 17, 15, 8, 75, '5u', 'Enough',\n",
       "       'See question 2', '24-50', 14, 'Over 50', 100, 76, 1000,\n",
       "       'sixty-nine', '46 Halloweens.', 'ancient', 77, 'OLD', 'old', 73,\n",
       "       70.5, 1, 'MY NAME JEFF', 4, '59 on the day after Halloween',\n",
       "       'old enough', 'your mom',\n",
       "       'I can remember when Java was a cool new language', '60+'],\n",
       "      dtype=object)"
      ]
     },
     "execution_count": 25,
     "metadata": {},
     "output_type": "execute_result"
    }
   ],
   "source": [
    "df['Q3: AGE'].unique()"
   ]
  },
  {
   "cell_type": "code",
   "execution_count": 26,
   "id": "1e250004",
   "metadata": {},
   "outputs": [],
   "source": [
    "df['Q3: AGE'].replace(['Old enough','Many','?','no','45-55','hahahahaha','Enough','5u',\n",
    "                      'older than dirt','See question 2','24-50','Over 50','sixty-nine',\n",
    "                       '46 Halloweens.','ancient','OLD', 'old','MY NAME JEFF',\n",
    "                      '59 on the day after Halloween','old enough', 'your mom',\n",
    "                      'I can remember when Java was a cool new language','60+',1000],np.nan,\n",
    "                      inplace=True)"
   ]
  },
  {
   "cell_type": "code",
   "execution_count": 27,
   "id": "4aa92ce8",
   "metadata": {},
   "outputs": [
    {
     "data": {
      "text/plain": [
       "array([ 44. ,  49. ,  40. ,  23. ,   nan,  53. ,  33. ,  43. ,  56. ,\n",
       "        64. ,  37. ,  59. ,  48. ,  54. ,  36. ,  45. ,  25. ,  34. ,\n",
       "        35. ,  38. ,  58. ,  50. ,  47. ,  16. ,  52. ,  63. ,  65. ,\n",
       "        41. ,  27. ,  31. ,  61. ,  46. ,  42. ,  62. ,  29. ,  39. ,\n",
       "        32. ,  28. ,  69. ,  67. ,  30. ,  22. ,  26. ,  51. ,  70. ,\n",
       "        24. ,  18. ,  19. ,  57. ,  60. ,  66. ,  12. ,  55. ,  72. ,\n",
       "        21. ,  11. ,   9. ,  68. ,  20. ,   6. ,  10. ,  71. ,  90. ,\n",
       "        13. , 312. ,  99. ,   7. ,  88. ,  39.4,  74. , 102. ,  17. ,\n",
       "        15. ,   8. ,  75. ,  14. , 100. ,  76. ,  77. ,  73. ,  70.5,\n",
       "         1. ,   4. ])"
      ]
     },
     "execution_count": 27,
     "metadata": {},
     "output_type": "execute_result"
    }
   ],
   "source": [
    "df['Q3: AGE'].unique()"
   ]
  },
  {
   "cell_type": "code",
   "execution_count": 28,
   "id": "7579a283",
   "metadata": {},
   "outputs": [
    {
     "data": {
      "text/plain": [
       "<AxesSubplot:>"
      ]
     },
     "execution_count": 28,
     "metadata": {},
     "output_type": "execute_result"
    },
    {
     "data": {
      "image/png": "[encoded data removed]",
      "text/plain": [
       "<Figure size 432x288 with 1 Axes>"
      ]
     },
     "metadata": {},
     "output_type": "display_data"
    }
   ],
   "source": [
    "df.boxplot(column=['Q3: AGE'])"
   ]
  },
  {
   "cell_type": "code",
   "execution_count": 29,
   "id": "e569c434",
   "metadata": {},
   "outputs": [
    {
     "data": {
      "text/plain": [
       "34.0"
      ]
     },
     "execution_count": 29,
     "metadata": {},
     "output_type": "execute_result"
    }
   ],
   "source": [
    "q1 = df['Q3: AGE'].quantile(0.25)\n",
    "q1"
   ]
  },
  {
   "cell_type": "code",
   "execution_count": 30,
   "id": "5e1ab738",
   "metadata": {},
   "outputs": [
    {
     "data": {
      "text/plain": [
       "50.0"
      ]
     },
     "execution_count": 30,
     "metadata": {},
     "output_type": "execute_result"
    }
   ],
   "source": [
    "q3 = df['Q3: AGE'].quantile(0.75)\n",
    "q3"
   ]
  },
  {
   "cell_type": "code",
   "execution_count": 31,
   "id": "fbc60c6d",
   "metadata": {},
   "outputs": [
    {
     "data": {
      "text/plain": [
       "16.0"
      ]
     },
     "execution_count": 31,
     "metadata": {},
     "output_type": "execute_result"
    }
   ],
   "source": [
    "iqr = q3 - q1\n",
    "iqr"
   ]
  },
  {
   "cell_type": "code",
   "execution_count": 32,
   "id": "7bdc8813",
   "metadata": {},
   "outputs": [],
   "source": [
    "min_val = q1 - (1.5*iqr)\n",
    "max_val = q3 + (1.5*iqr)"
   ]
  },
  {
   "cell_type": "code",
   "execution_count": 33,
   "id": "8192566f",
   "metadata": {},
   "outputs": [
    {
     "data": {
      "text/plain": [
       "379       9.0\n",
       "414       6.0\n",
       "451      90.0\n",
       "506     312.0\n",
       "575      99.0\n",
       "627       7.0\n",
       "705       9.0\n",
       "728      88.0\n",
       "884     102.0\n",
       "943       8.0\n",
       "987      75.0\n",
       "1054      9.0\n",
       "1223     75.0\n",
       "1308      8.0\n",
       "1371      7.0\n",
       "1411     90.0\n",
       "1441    100.0\n",
       "1479      9.0\n",
       "1488     76.0\n",
       "1490      6.0\n",
       "1495    100.0\n",
       "1830     77.0\n",
       "2010     75.0\n",
       "2212      1.0\n",
       "2294      4.0\n",
       "2329     76.0\n",
       "Name: Q3: AGE, dtype: float64"
      ]
     },
     "execution_count": 33,
     "metadata": {},
     "output_type": "execute_result"
    }
   ],
   "source": [
    "outliers = df[(df['Q3: AGE'] < min_val) | (df['Q3: AGE'] > max_val)]['Q3: AGE']\n",
    "outliers"
   ]
  },
  {
   "cell_type": "code",
   "execution_count": 34,
   "id": "87ca9d54",
   "metadata": {},
   "outputs": [],
   "source": [
    "df['Q3: AGE'].replace(list(outliers),np.nan,inplace=True)"
   ]
  },
  {
   "cell_type": "code",
   "execution_count": 35,
   "id": "62d1621a",
   "metadata": {},
   "outputs": [
    {
     "data": {
      "text/plain": [
       "<AxesSubplot:>"
      ]
     },
     "execution_count": 35,
     "metadata": {},
     "output_type": "execute_result"
    },
    {
     "data": {
      "image/png": "[encoded data removed]",
      "text/plain": [
       "<Figure size 432x288 with 1 Axes>"
      ]
     },
     "metadata": {},
     "output_type": "display_data"
    }
   ],
   "source": [
    "df.boxplot(column=['Q3: AGE'])"
   ]
  },
  {
   "cell_type": "code",
   "execution_count": 36,
   "id": "ff606846",
   "metadata": {},
   "outputs": [],
   "source": [
    "df['Q3: AGE'].fillna(df['Q3: AGE'].mean(),inplace=True)"
   ]
  },
  {
   "cell_type": "code",
   "execution_count": 37,
   "id": "6049f21d",
   "metadata": {},
   "outputs": [],
   "source": [
    "df['Q3: AGE'] = df['Q3: AGE'].astype('int')"
   ]
  },
  {
   "cell_type": "markdown",
   "id": "5d5eaa77",
   "metadata": {},
   "source": [
    "### Q4-COUNTRY"
   ]
  },
  {
   "cell_type": "code",
   "execution_count": 38,
   "id": "b455fc88",
   "metadata": {},
   "outputs": [
    {
     "data": {
      "text/plain": [
       "array(['USA ', 'USA', 'us', 'usa', nan, 'canada', 'Canada', 'Us', 'US',\n",
       "       'Murica', 'United States', 'uk', 'United Kingdom', 'united states',\n",
       "       'Usa', 'United States ', 'United staes',\n",
       "       'United States of America', 'UAE', 'England', 'UK', 'canada ',\n",
       "       'Mexico', 'United states', 'u.s.a.', 'USAUSAUSA', 'america', 35,\n",
       "       'france', 'United States of America ', 'U.S.A.', 'finland',\n",
       "       'unhinged states', 'Canada ', 'united states of america',\n",
       "       'US of A', 'Unites States', 'The United States', 'North Carolina ',\n",
       "       'Unied States', 'Netherlands', 'germany', 'Europe', 'Earth', 'U S',\n",
       "       'u.s.', 'U.K. ', 'Costa Rica', 'The United States of America',\n",
       "       'unite states', 'U.S.', 46, 'cascadia', 'Australia',\n",
       "       'insanity lately', 'Greece', 'USA? Hard to tell anymore..',\n",
       "       \"'merica\", 'usas', 'Pittsburgh', 45, 'United State', 32, 'France',\n",
       "       'australia', 'A', 'Can', 'Canae', 'New York', 'Trumpistan',\n",
       "       'Ireland', 'United Sates', 'Korea', 'California', 'Japan', 'USa',\n",
       "       'South africa',\n",
       "       'I pretend to be from Canada, but I am really from the United States.',\n",
       "       'Usa ', 'Uk', 'Iceland', 'Germany', 'Canada`', 'Scotland', 'UK ',\n",
       "       'Denmark', 'United Stated', 'France ', 'Switzerland',\n",
       "       'Ahem....Amerca', 'UD', 'Scotland ', 'South Korea', 'New Jersey',\n",
       "       'CANADA', 'Indonesia', 'United ststes', 'America',\n",
       "       'The Netherlands', 'United Statss', 'endland', 'Atlantis',\n",
       "       'murrika', 'USA! USA! USA!', 'USAA', 'Alaska', 'united States ',\n",
       "       'soviet canuckistan', 'N. America', 'Singapore', 'USSA', 'China',\n",
       "       'Taiwan', 'Ireland ', 'hong kong', 'spain', 'Sweden', 'Hong Kong',\n",
       "       'U.S. ', 'Narnia', 'u s a', 'United Statea', 'united ststes', 1,\n",
       "       'subscribe to dm4uz3 on youtube', 'United kingdom',\n",
       "       'USA USA USA!!!!', \"I don't know anymore\", 'Fear and Loathing'],\n",
       "      dtype=object)"
      ]
     },
     "execution_count": 38,
     "metadata": {},
     "output_type": "execute_result"
    }
   ],
   "source": [
    "df['Q4: COUNTRY'].unique()"
   ]
  },
  {
   "cell_type": "code",
   "execution_count": 39,
   "id": "db280801",
   "metadata": {},
   "outputs": [],
   "source": [
    "df['Q4: COUNTRY'] = df['Q4: COUNTRY'].str.upper().str.strip()"
   ]
  },
  {
   "cell_type": "code",
   "execution_count": 40,
   "id": "34850fd7",
   "metadata": {},
   "outputs": [
    {
     "data": {
      "text/plain": [
       "USA                         1125\n",
       "UNITED STATES                591\n",
       "CANADA                       224\n",
       "US                           182\n",
       "UNITED STATES OF AMERICA      73\n",
       "                            ... \n",
       "UNITED SATES                   1\n",
       "KOREA                          1\n",
       "CALIFORNIA                     1\n",
       "SOUTH AFRICA                   1\n",
       "FEAR AND LOATHING              1\n",
       "Name: Q4: COUNTRY, Length: 90, dtype: int64"
      ]
     },
     "execution_count": 40,
     "metadata": {},
     "output_type": "execute_result"
    }
   ],
   "source": [
    "df['Q4: COUNTRY'].value_counts()"
   ]
  },
  {
   "cell_type": "code",
   "execution_count": 41,
   "id": "93da3ebd",
   "metadata": {},
   "outputs": [
    {
     "name": "stderr",
     "output_type": "stream",
     "text": [
      "C:\\ProgramData\\Anaconda3\\lib\\site-packages\\fuzzywuzzy\\fuzz.py:11: UserWarning: Using slow pure-python SequenceMatcher. Install python-Levenshtein to remove this warning\n",
      "  warnings.warn('Using slow pure-python SequenceMatcher. Install python-Levenshtein to remove this warning')\n"
     ]
    }
   ],
   "source": [
    "from fuzzywuzzy import process\n",
    "usa = ['USA','AMERICA','UNITED STATES','UNITED KINGDOM','GERMANY','AUSTRALIA']\n",
    "for state in usa:\n",
    "    matches = process.extract(state, df['Q4: COUNTRY'], limit = df.shape[0])\n",
    "    for potential_match in matches:\n",
    "        if potential_match[1] >= 80:\n",
    "            df.loc[df['Q4: COUNTRY'] == potential_match[0],'Q4: COUNTRY'] = state"
   ]
  },
  {
   "cell_type": "code",
   "execution_count": 42,
   "id": "02409f74",
   "metadata": {},
   "outputs": [
    {
     "data": {
      "text/plain": [
       "USA                  1314\n",
       "UNITED STATES         624\n",
       "CANADA                224\n",
       "AMERICA                83\n",
       "UK                     18\n",
       "                     ... \n",
       "CALIFORNIA              1\n",
       "UAE                     1\n",
       "SOUTH AFRICA            1\n",
       "ICELAND                 1\n",
       "FEAR AND LOATHING       1\n",
       "Name: Q4: COUNTRY, Length: 62, dtype: int64"
      ]
     },
     "execution_count": 42,
     "metadata": {},
     "output_type": "execute_result"
    }
   ],
   "source": [
    "df['Q4: COUNTRY'].value_counts()"
   ]
  },
  {
   "cell_type": "code",
   "execution_count": 43,
   "id": "2a478230",
   "metadata": {},
   "outputs": [
    {
     "data": {
      "text/plain": [
       "array(['USA', nan, 'CANADA', 'MURICA', 'UNITED STATES', 'UK',\n",
       "       'UNITED KINGDOM', 'AMERICA', 'UAE', 'ENGLAND', 'MEXICO', 'U.S.A.',\n",
       "       'FRANCE', 'FINLAND', 'US OF A', 'NORTH CAROLINA', 'NETHERLANDS',\n",
       "       'GERMANY', 'EUROPE', 'EARTH', 'U.K.', 'COSTA RICA', 'CASCADIA',\n",
       "       'AUSTRALIA', 'INSANITY LATELY', 'GREECE',\n",
       "       'USA? HARD TO TELL ANYMORE..', 'PITTSBURGH', 'CAN', 'CANAE',\n",
       "       'NEW YORK', 'TRUMPISTAN', 'IRELAND', 'KOREA', 'CALIFORNIA',\n",
       "       'JAPAN', 'SOUTH AFRICA', 'ICELAND', 'CANADA`', 'SCOTLAND',\n",
       "       'DENMARK', 'SWITZERLAND', 'UD', 'SOUTH KOREA', 'NEW JERSEY',\n",
       "       'INDONESIA', 'THE NETHERLANDS', 'ENDLAND', 'ATLANTIS', 'MURRIKA',\n",
       "       'ALASKA', 'SOVIET CANUCKISTAN', 'SINGAPORE', 'CHINA', 'TAIWAN',\n",
       "       'HONG KONG', 'SPAIN', 'SWEDEN', 'NARNIA', 'U S A',\n",
       "       'SUBSCRIBE TO DM4UZ3 ON YOUTUBE', \"I DON'T KNOW ANYMORE\",\n",
       "       'FEAR AND LOATHING'], dtype=object)"
      ]
     },
     "execution_count": 43,
     "metadata": {},
     "output_type": "execute_result"
    }
   ],
   "source": [
    "df['Q4: COUNTRY'].unique()"
   ]
  },
  {
   "cell_type": "code",
   "execution_count": 44,
   "id": "5a28bace",
   "metadata": {},
   "outputs": [],
   "source": [
    "df['Q4: COUNTRY'].replace(['AMERICA','UNITED STATES','U S A','U.S.A.','US OF A','USA? HARD TO TELL ANYMORE..'],'USA',inplace=True)"
   ]
  },
  {
   "cell_type": "code",
   "execution_count": 45,
   "id": "65fad362",
   "metadata": {},
   "outputs": [
    {
     "data": {
      "text/plain": [
       "USA               2035\n",
       "CANADA             224\n",
       "UK                  18\n",
       "UNITED KINGDOM      14\n",
       "GERMANY             10\n",
       "Name: Q4: COUNTRY, dtype: int64"
      ]
     },
     "execution_count": 45,
     "metadata": {},
     "output_type": "execute_result"
    }
   ],
   "source": [
    "df['Q4: COUNTRY'].value_counts().head()"
   ]
  },
  {
   "cell_type": "code",
   "execution_count": 46,
   "id": "f14919ea",
   "metadata": {},
   "outputs": [],
   "source": [
    "df['Q4: COUNTRY'].replace('UNITED KINGDOM','UK',inplace=True)"
   ]
  },
  {
   "cell_type": "code",
   "execution_count": 47,
   "id": "a75aa998",
   "metadata": {},
   "outputs": [
    {
     "data": {
      "text/plain": [
       "USA          2035\n",
       "CANADA        224\n",
       "UK             32\n",
       "GERMANY        10\n",
       "AUSTRALIA       7\n",
       "Name: Q4: COUNTRY, dtype: int64"
      ]
     },
     "execution_count": 47,
     "metadata": {},
     "output_type": "execute_result"
    }
   ],
   "source": [
    "df['Q4: COUNTRY'].value_counts().head()"
   ]
  },
  {
   "cell_type": "code",
   "execution_count": 48,
   "id": "745fb8fc",
   "metadata": {},
   "outputs": [
    {
     "data": {
      "text/plain": [
       "37"
      ]
     },
     "execution_count": 48,
     "metadata": {},
     "output_type": "execute_result"
    }
   ],
   "source": [
    "df['Q4: COUNTRY'].isna().sum()"
   ]
  },
  {
   "cell_type": "code",
   "execution_count": 49,
   "id": "6734e48b",
   "metadata": {},
   "outputs": [],
   "source": [
    "df['Q4: COUNTRY'].fillna('USA',inplace=True)"
   ]
  },
  {
   "cell_type": "markdown",
   "id": "e50664d2",
   "metadata": {},
   "source": [
    "### Q5: STATE, PROVINCE, COUNTY, ETC"
   ]
  },
  {
   "cell_type": "code",
   "execution_count": 50,
   "id": "f9613979",
   "metadata": {},
   "outputs": [
    {
     "data": {
      "text/plain": [
       "California    131\n",
       "CA             88\n",
       "Texas          60\n",
       "Ontario        56\n",
       "Illinois       55\n",
       "Oregon         50\n",
       "New York       42\n",
       "WA             40\n",
       "Name: Q5: STATE, PROVINCE, COUNTY, ETC, dtype: int64"
      ]
     },
     "execution_count": 50,
     "metadata": {},
     "output_type": "execute_result"
    }
   ],
   "source": [
    "df['Q5: STATE, PROVINCE, COUNTY, ETC'].value_counts().head(8)"
   ]
  },
  {
   "cell_type": "code",
   "execution_count": 51,
   "id": "75e4a649",
   "metadata": {},
   "outputs": [],
   "source": [
    "states = ['CALIFORNIA','ONTARIO','ILLINOIS','TEXAS','OREGON']\n",
    "for state in states:\n",
    "    matches = process.extract(state, df['Q5: STATE, PROVINCE, COUNTY, ETC'], limit = df.shape[0])\n",
    "    for potential_match in matches:\n",
    "        if potential_match[1] >= 80:\n",
    "            df.loc[df['Q5: STATE, PROVINCE, COUNTY, ETC'] == potential_match[0],'Q5: STATE, PROVINCE, COUNTY, ETC'] = state"
   ]
  },
  {
   "cell_type": "code",
   "execution_count": 52,
   "id": "0dda721b",
   "metadata": {},
   "outputs": [
    {
     "data": {
      "text/plain": [
       "CALIFORNIA    344\n",
       "ILLINOIS      118\n",
       "ONTARIO        99\n",
       "TEXAS          72\n",
       "OREGON         63\n",
       "New York       42\n",
       "WA             40\n",
       "NY             37\n",
       "Name: Q5: STATE, PROVINCE, COUNTY, ETC, dtype: int64"
      ]
     },
     "execution_count": 52,
     "metadata": {},
     "output_type": "execute_result"
    }
   ],
   "source": [
    "df['Q5: STATE, PROVINCE, COUNTY, ETC'].value_counts().head(8)"
   ]
  },
  {
   "cell_type": "code",
   "execution_count": 53,
   "id": "ac43a5ec",
   "metadata": {},
   "outputs": [
    {
     "data": {
      "text/plain": [
       "68"
      ]
     },
     "execution_count": 53,
     "metadata": {},
     "output_type": "execute_result"
    }
   ],
   "source": [
    "df['Q5: STATE, PROVINCE, COUNTY, ETC'].isna().sum()"
   ]
  },
  {
   "cell_type": "code",
   "execution_count": 54,
   "id": "355f78aa",
   "metadata": {},
   "outputs": [],
   "source": [
    "df['Q5: STATE, PROVINCE, COUNTY, ETC'].fillna('CALIFORNIA',inplace=True)"
   ]
  },
  {
   "cell_type": "markdown",
   "id": "64d1f664",
   "metadata": {},
   "source": [
    "### Q10-DRESS"
   ]
  },
  {
   "cell_type": "code",
   "execution_count": 55,
   "id": "4fd97ce6",
   "metadata": {},
   "outputs": [
    {
     "data": {
      "text/html": [
       "<div>\n",
       "<style scoped>\n",
       "    .dataframe tbody tr th:only-of-type {\n",
       "        vertical-align: middle;\n",
       "    }\n",
       "\n",
       "    .dataframe tbody tr th {\n",
       "        vertical-align: top;\n",
       "    }\n",
       "\n",
       "    .dataframe thead th {\n",
       "        text-align: right;\n",
       "    }\n",
       "</style>\n",
       "<table border=\"1\" class=\"dataframe\">\n",
       "  <thead>\n",
       "    <tr style=\"text-align: right;\">\n",
       "      <th></th>\n",
       "      <th>Q4: COUNTRY</th>\n",
       "      <th>Q5: STATE, PROVINCE, COUNTY, ETC</th>\n",
       "      <th>Q10: DRESS</th>\n",
       "      <th>Q11: DAY</th>\n",
       "      <th>Click Coordinates (x, y)</th>\n",
       "    </tr>\n",
       "  </thead>\n",
       "  <tbody>\n",
       "    <tr>\n",
       "      <th>1</th>\n",
       "      <td>USA</td>\n",
       "      <td>NM</td>\n",
       "      <td>White and gold</td>\n",
       "      <td>Sunday</td>\n",
       "      <td>(84, 25)</td>\n",
       "    </tr>\n",
       "    <tr>\n",
       "      <th>2</th>\n",
       "      <td>USA</td>\n",
       "      <td>Virginia</td>\n",
       "      <td>NaN</td>\n",
       "      <td>NaN</td>\n",
       "      <td>NaN</td>\n",
       "    </tr>\n",
       "    <tr>\n",
       "      <th>3</th>\n",
       "      <td>USA</td>\n",
       "      <td>CALIFORNIA</td>\n",
       "      <td>White and gold</td>\n",
       "      <td>Sunday</td>\n",
       "      <td>(75, 23)</td>\n",
       "    </tr>\n",
       "    <tr>\n",
       "      <th>4</th>\n",
       "      <td>USA</td>\n",
       "      <td>exton pa</td>\n",
       "      <td>White and gold</td>\n",
       "      <td>Friday</td>\n",
       "      <td>(70, 10)</td>\n",
       "    </tr>\n",
       "    <tr>\n",
       "      <th>5</th>\n",
       "      <td>USA</td>\n",
       "      <td>CALIFORNIA</td>\n",
       "      <td>NaN</td>\n",
       "      <td>NaN</td>\n",
       "      <td>(75, 23)</td>\n",
       "    </tr>\n",
       "    <tr>\n",
       "      <th>...</th>\n",
       "      <td>...</td>\n",
       "      <td>...</td>\n",
       "      <td>...</td>\n",
       "      <td>...</td>\n",
       "      <td>...</td>\n",
       "    </tr>\n",
       "    <tr>\n",
       "      <th>2455</th>\n",
       "      <td>USA</td>\n",
       "      <td>MD</td>\n",
       "      <td>White and gold</td>\n",
       "      <td>Friday</td>\n",
       "      <td>NaN</td>\n",
       "    </tr>\n",
       "    <tr>\n",
       "      <th>2456</th>\n",
       "      <td>USA</td>\n",
       "      <td>New York</td>\n",
       "      <td>Blue and black</td>\n",
       "      <td>Friday</td>\n",
       "      <td>(70, 26)</td>\n",
       "    </tr>\n",
       "    <tr>\n",
       "      <th>2457</th>\n",
       "      <td>USA</td>\n",
       "      <td>Tennessee</td>\n",
       "      <td>Blue and black</td>\n",
       "      <td>Friday</td>\n",
       "      <td>(67, 35)</td>\n",
       "    </tr>\n",
       "    <tr>\n",
       "      <th>2458</th>\n",
       "      <td>USA</td>\n",
       "      <td>North Carolina</td>\n",
       "      <td>NaN</td>\n",
       "      <td>NaN</td>\n",
       "      <td>NaN</td>\n",
       "    </tr>\n",
       "    <tr>\n",
       "      <th>2459</th>\n",
       "      <td>USA</td>\n",
       "      <td>Pennsylvania</td>\n",
       "      <td>White and gold</td>\n",
       "      <td>Sunday</td>\n",
       "      <td>(19, 26)</td>\n",
       "    </tr>\n",
       "  </tbody>\n",
       "</table>\n",
       "<p>2422 rows × 5 columns</p>\n",
       "</div>"
      ],
      "text/plain": [
       "     Q4: COUNTRY Q5: STATE, PROVINCE, COUNTY, ETC      Q10: DRESS Q11: DAY  \\\n",
       "1            USA                               NM  White and gold   Sunday   \n",
       "2            USA                         Virginia             NaN      NaN   \n",
       "3            USA                       CALIFORNIA  White and gold   Sunday   \n",
       "4            USA                         exton pa  White and gold   Friday   \n",
       "5            USA                       CALIFORNIA             NaN      NaN   \n",
       "...          ...                              ...             ...      ...   \n",
       "2455         USA                               MD  White and gold   Friday   \n",
       "2456         USA                         New York  Blue and black   Friday   \n",
       "2457         USA                        Tennessee  Blue and black   Friday   \n",
       "2458         USA                   North Carolina             NaN      NaN   \n",
       "2459         USA                     Pennsylvania  White and gold   Sunday   \n",
       "\n",
       "     Click Coordinates (x, y)  \n",
       "1                    (84, 25)  \n",
       "2                         NaN  \n",
       "3                    (75, 23)  \n",
       "4                    (70, 10)  \n",
       "5                    (75, 23)  \n",
       "...                       ...  \n",
       "2455                      NaN  \n",
       "2456                 (70, 26)  \n",
       "2457                 (67, 35)  \n",
       "2458                      NaN  \n",
       "2459                 (19, 26)  \n",
       "\n",
       "[2422 rows x 5 columns]"
      ]
     },
     "execution_count": 55,
     "metadata": {},
     "output_type": "execute_result"
    }
   ],
   "source": [
    "df.iloc[:,-5:]"
   ]
  },
  {
   "cell_type": "code",
   "execution_count": 56,
   "id": "4b8e5d67",
   "metadata": {},
   "outputs": [
    {
     "data": {
      "text/plain": [
       "White and gold    1081\n",
       "Blue and black     635\n",
       "Name: Q10: DRESS, dtype: int64"
      ]
     },
     "execution_count": 56,
     "metadata": {},
     "output_type": "execute_result"
    }
   ],
   "source": [
    "df['Q10: DRESS'].value_counts()"
   ]
  },
  {
   "cell_type": "code",
   "execution_count": 57,
   "id": "183fcf97",
   "metadata": {},
   "outputs": [
    {
     "data": {
      "text/plain": [
       "706"
      ]
     },
     "execution_count": 57,
     "metadata": {},
     "output_type": "execute_result"
    }
   ],
   "source": [
    "df['Q10: DRESS'].isna().sum()"
   ]
  },
  {
   "cell_type": "code",
   "execution_count": 58,
   "id": "da96200f",
   "metadata": {},
   "outputs": [],
   "source": [
    "df['Q10: DRESS'].fillna('White and gold',inplace=True)"
   ]
  },
  {
   "cell_type": "markdown",
   "id": "fea18ca3",
   "metadata": {},
   "source": [
    "### Q11: DAY"
   ]
  },
  {
   "cell_type": "code",
   "execution_count": 59,
   "id": "eb69c067",
   "metadata": {},
   "outputs": [
    {
     "data": {
      "text/plain": [
       "Friday    1091\n",
       "Sunday     644\n",
       "Name: Q11: DAY, dtype: int64"
      ]
     },
     "execution_count": 59,
     "metadata": {},
     "output_type": "execute_result"
    }
   ],
   "source": [
    "df['Q11: DAY'].value_counts()"
   ]
  },
  {
   "cell_type": "code",
   "execution_count": 60,
   "id": "31faa616",
   "metadata": {},
   "outputs": [
    {
     "data": {
      "text/plain": [
       "687"
      ]
     },
     "execution_count": 60,
     "metadata": {},
     "output_type": "execute_result"
    }
   ],
   "source": [
    "df['Q11: DAY'].isna().sum()"
   ]
  },
  {
   "cell_type": "code",
   "execution_count": 61,
   "id": "d5f04065",
   "metadata": {},
   "outputs": [],
   "source": [
    "df['Q11: DAY'].fillna('Friday',inplace=True)"
   ]
  },
  {
   "cell_type": "markdown",
   "id": "2081949f",
   "metadata": {},
   "source": [
    "### Click Coordinates (x, y)"
   ]
  },
  {
   "cell_type": "code",
   "execution_count": 62,
   "id": "f18829e8",
   "metadata": {},
   "outputs": [
    {
     "data": {
      "text/html": [
       "<div>\n",
       "<style scoped>\n",
       "    .dataframe tbody tr th:only-of-type {\n",
       "        vertical-align: middle;\n",
       "    }\n",
       "\n",
       "    .dataframe tbody tr th {\n",
       "        vertical-align: top;\n",
       "    }\n",
       "\n",
       "    .dataframe thead th {\n",
       "        text-align: right;\n",
       "    }\n",
       "</style>\n",
       "<table border=\"1\" class=\"dataframe\">\n",
       "  <thead>\n",
       "    <tr style=\"text-align: right;\">\n",
       "      <th></th>\n",
       "      <th>0</th>\n",
       "      <th>1</th>\n",
       "    </tr>\n",
       "  </thead>\n",
       "  <tbody>\n",
       "    <tr>\n",
       "      <th>1</th>\n",
       "      <td>(84</td>\n",
       "      <td>25)</td>\n",
       "    </tr>\n",
       "    <tr>\n",
       "      <th>2</th>\n",
       "      <td>NaN</td>\n",
       "      <td>NaN</td>\n",
       "    </tr>\n",
       "    <tr>\n",
       "      <th>3</th>\n",
       "      <td>(75</td>\n",
       "      <td>23)</td>\n",
       "    </tr>\n",
       "    <tr>\n",
       "      <th>4</th>\n",
       "      <td>(70</td>\n",
       "      <td>10)</td>\n",
       "    </tr>\n",
       "    <tr>\n",
       "      <th>5</th>\n",
       "      <td>(75</td>\n",
       "      <td>23)</td>\n",
       "    </tr>\n",
       "    <tr>\n",
       "      <th>...</th>\n",
       "      <td>...</td>\n",
       "      <td>...</td>\n",
       "    </tr>\n",
       "    <tr>\n",
       "      <th>2455</th>\n",
       "      <td>NaN</td>\n",
       "      <td>NaN</td>\n",
       "    </tr>\n",
       "    <tr>\n",
       "      <th>2456</th>\n",
       "      <td>(70</td>\n",
       "      <td>26)</td>\n",
       "    </tr>\n",
       "    <tr>\n",
       "      <th>2457</th>\n",
       "      <td>(67</td>\n",
       "      <td>35)</td>\n",
       "    </tr>\n",
       "    <tr>\n",
       "      <th>2458</th>\n",
       "      <td>NaN</td>\n",
       "      <td>NaN</td>\n",
       "    </tr>\n",
       "    <tr>\n",
       "      <th>2459</th>\n",
       "      <td>(19</td>\n",
       "      <td>26)</td>\n",
       "    </tr>\n",
       "  </tbody>\n",
       "</table>\n",
       "<p>2422 rows × 2 columns</p>\n",
       "</div>"
      ],
      "text/plain": [
       "        0     1\n",
       "1     (84   25)\n",
       "2     NaN   NaN\n",
       "3     (75   23)\n",
       "4     (70   10)\n",
       "5     (75   23)\n",
       "...   ...   ...\n",
       "2455  NaN   NaN\n",
       "2456  (70   26)\n",
       "2457  (67   35)\n",
       "2458  NaN   NaN\n",
       "2459  (19   26)\n",
       "\n",
       "[2422 rows x 2 columns]"
      ]
     },
     "execution_count": 62,
     "metadata": {},
     "output_type": "execute_result"
    }
   ],
   "source": [
    "coordinates = df['Click Coordinates (x, y)'].str.split(',', expand = True)\n",
    "coordinates"
   ]
  },
  {
   "cell_type": "code",
   "execution_count": 63,
   "id": "6d8cec27",
   "metadata": {},
   "outputs": [
    {
     "name": "stderr",
     "output_type": "stream",
     "text": [
      "C:\\Users\\Dell\\AppData\\Local\\Temp/ipykernel_14620/2154703281.py:1: FutureWarning: The default value of regex will change from True to False in a future version. In addition, single character regular expressions will *not* be treated as literal strings when regex=True.\n",
      "  coordinates[0] = coordinates[0].str.replace('(','')\n",
      "C:\\Users\\Dell\\AppData\\Local\\Temp/ipykernel_14620/2154703281.py:2: FutureWarning: The default value of regex will change from True to False in a future version. In addition, single character regular expressions will *not* be treated as literal strings when regex=True.\n",
      "  coordinates[1] = coordinates[1].str.replace(')','')\n"
     ]
    }
   ],
   "source": [
    "coordinates[0] = coordinates[0].str.replace('(','')\n",
    "coordinates[1] = coordinates[1].str.replace(')','')"
   ]
  },
  {
   "cell_type": "code",
   "execution_count": 64,
   "id": "2476ea0d",
   "metadata": {},
   "outputs": [],
   "source": [
    "coordinates.rename(columns={0:'Coordinates_x', 1:'Coordinates_y'},inplace=True)"
   ]
  },
  {
   "cell_type": "code",
   "execution_count": 65,
   "id": "cba72c29",
   "metadata": {},
   "outputs": [],
   "source": [
    "coordinates.fillna(0,inplace=True)"
   ]
  },
  {
   "cell_type": "code",
   "execution_count": 66,
   "id": "ed4052fc",
   "metadata": {},
   "outputs": [],
   "source": [
    "coordinates['Coordinates_x'] = coordinates['Coordinates_x'].astype('int')\n",
    "coordinates['Coordinates_y'] = coordinates['Coordinates_y'].astype('int')"
   ]
  },
  {
   "cell_type": "code",
   "execution_count": 67,
   "id": "e53d3025",
   "metadata": {},
   "outputs": [
    {
     "data": {
      "text/plain": [
       "0     817\n",
       "76     89\n",
       "74     84\n",
       "73     83\n",
       "77     82\n",
       "     ... \n",
       "39      1\n",
       "13      1\n",
       "98      1\n",
       "15      1\n",
       "12      1\n",
       "Name: Coordinates_x, Length: 78, dtype: int64"
      ]
     },
     "execution_count": 67,
     "metadata": {},
     "output_type": "execute_result"
    }
   ],
   "source": [
    "coordinates['Coordinates_x'].value_counts()"
   ]
  },
  {
   "cell_type": "code",
   "execution_count": 68,
   "id": "a6858fa5",
   "metadata": {},
   "outputs": [],
   "source": [
    "coordinates['Coordinates_x'].replace(0,76,inplace=True)"
   ]
  },
  {
   "cell_type": "code",
   "execution_count": 69,
   "id": "47cdffee",
   "metadata": {},
   "outputs": [
    {
     "data": {
      "text/plain": [
       "0     818\n",
       "31     76\n",
       "5      75\n",
       "26     75\n",
       "24     69\n",
       "     ... \n",
       "51      1\n",
       "2       1\n",
       "50      1\n",
       "48      1\n",
       "64      1\n",
       "Name: Coordinates_y, Length: 89, dtype: int64"
      ]
     },
     "execution_count": 69,
     "metadata": {},
     "output_type": "execute_result"
    }
   ],
   "source": [
    "coordinates['Coordinates_y'].value_counts()"
   ]
  },
  {
   "cell_type": "code",
   "execution_count": 70,
   "id": "e22c0dc2",
   "metadata": {},
   "outputs": [],
   "source": [
    "coordinates['Coordinates_y'].replace(0,31,inplace=True)"
   ]
  },
  {
   "cell_type": "code",
   "execution_count": 71,
   "id": "3d57f05e",
   "metadata": {},
   "outputs": [],
   "source": [
    "df.drop(columns=['Click Coordinates (x, y)'],inplace=True)"
   ]
  },
  {
   "cell_type": "code",
   "execution_count": 72,
   "id": "8ef3f39f",
   "metadata": {},
   "outputs": [],
   "source": [
    "edit_list = []\n",
    "for i in list(df.columns):\n",
    "    i = i.replace(i[:4],'').strip()\n",
    "    edit_list.append(i)"
   ]
  },
  {
   "cell_type": "code",
   "execution_count": 73,
   "id": "60786eba",
   "metadata": {},
   "outputs": [
    {
     "data": {
      "text/plain": [
       "['GOING OUT?',\n",
       " 'GENDER',\n",
       " 'AGE',\n",
       " 'COUNTRY',\n",
       " 'STATE, PROVINCE, COUNTY, ETC',\n",
       " 'DRESS',\n",
       " 'DAY']"
      ]
     },
     "execution_count": 73,
     "metadata": {},
     "output_type": "execute_result"
    }
   ],
   "source": [
    "edit_list"
   ]
  },
  {
   "cell_type": "code",
   "execution_count": 74,
   "id": "b0d7331c",
   "metadata": {},
   "outputs": [],
   "source": [
    "df.columns = edit_list"
   ]
  },
  {
   "cell_type": "code",
   "execution_count": 75,
   "id": "710171b0",
   "metadata": {},
   "outputs": [],
   "source": [
    "df.rename(columns={'STATE, PROVINCE, COUNTY, ETC':'STATE'},inplace=True)"
   ]
  },
  {
   "cell_type": "code",
   "execution_count": 76,
   "id": "77755bcc",
   "metadata": {},
   "outputs": [
    {
     "data": {
      "text/html": [
       "<div>\n",
       "<style scoped>\n",
       "    .dataframe tbody tr th:only-of-type {\n",
       "        vertical-align: middle;\n",
       "    }\n",
       "\n",
       "    .dataframe tbody tr th {\n",
       "        vertical-align: top;\n",
       "    }\n",
       "\n",
       "    .dataframe thead th {\n",
       "        text-align: right;\n",
       "    }\n",
       "</style>\n",
       "<table border=\"1\" class=\"dataframe\">\n",
       "  <thead>\n",
       "    <tr style=\"text-align: right;\">\n",
       "      <th></th>\n",
       "      <th>GOING OUT?</th>\n",
       "      <th>GENDER</th>\n",
       "      <th>AGE</th>\n",
       "      <th>COUNTRY</th>\n",
       "      <th>STATE</th>\n",
       "      <th>DRESS</th>\n",
       "      <th>DAY</th>\n",
       "    </tr>\n",
       "  </thead>\n",
       "  <tbody>\n",
       "    <tr>\n",
       "      <th>1</th>\n",
       "      <td>No</td>\n",
       "      <td>Male</td>\n",
       "      <td>44</td>\n",
       "      <td>USA</td>\n",
       "      <td>NM</td>\n",
       "      <td>White and gold</td>\n",
       "      <td>Sunday</td>\n",
       "    </tr>\n",
       "    <tr>\n",
       "      <th>2</th>\n",
       "      <td>No</td>\n",
       "      <td>Male</td>\n",
       "      <td>49</td>\n",
       "      <td>USA</td>\n",
       "      <td>Virginia</td>\n",
       "      <td>White and gold</td>\n",
       "      <td>Friday</td>\n",
       "    </tr>\n",
       "    <tr>\n",
       "      <th>3</th>\n",
       "      <td>No</td>\n",
       "      <td>Male</td>\n",
       "      <td>40</td>\n",
       "      <td>USA</td>\n",
       "      <td>CALIFORNIA</td>\n",
       "      <td>White and gold</td>\n",
       "      <td>Sunday</td>\n",
       "    </tr>\n",
       "    <tr>\n",
       "      <th>4</th>\n",
       "      <td>No</td>\n",
       "      <td>Male</td>\n",
       "      <td>23</td>\n",
       "      <td>USA</td>\n",
       "      <td>exton pa</td>\n",
       "      <td>White and gold</td>\n",
       "      <td>Friday</td>\n",
       "    </tr>\n",
       "    <tr>\n",
       "      <th>5</th>\n",
       "      <td>No</td>\n",
       "      <td>Male</td>\n",
       "      <td>42</td>\n",
       "      <td>USA</td>\n",
       "      <td>CALIFORNIA</td>\n",
       "      <td>White and gold</td>\n",
       "      <td>Friday</td>\n",
       "    </tr>\n",
       "    <tr>\n",
       "      <th>...</th>\n",
       "      <td>...</td>\n",
       "      <td>...</td>\n",
       "      <td>...</td>\n",
       "      <td>...</td>\n",
       "      <td>...</td>\n",
       "      <td>...</td>\n",
       "      <td>...</td>\n",
       "    </tr>\n",
       "    <tr>\n",
       "      <th>2455</th>\n",
       "      <td>No</td>\n",
       "      <td>Male</td>\n",
       "      <td>24</td>\n",
       "      <td>USA</td>\n",
       "      <td>MD</td>\n",
       "      <td>White and gold</td>\n",
       "      <td>Friday</td>\n",
       "    </tr>\n",
       "    <tr>\n",
       "      <th>2456</th>\n",
       "      <td>No</td>\n",
       "      <td>Female</td>\n",
       "      <td>33</td>\n",
       "      <td>USA</td>\n",
       "      <td>New York</td>\n",
       "      <td>Blue and black</td>\n",
       "      <td>Friday</td>\n",
       "    </tr>\n",
       "    <tr>\n",
       "      <th>2457</th>\n",
       "      <td>No</td>\n",
       "      <td>Female</td>\n",
       "      <td>26</td>\n",
       "      <td>USA</td>\n",
       "      <td>Tennessee</td>\n",
       "      <td>Blue and black</td>\n",
       "      <td>Friday</td>\n",
       "    </tr>\n",
       "    <tr>\n",
       "      <th>2458</th>\n",
       "      <td>No</td>\n",
       "      <td>Male</td>\n",
       "      <td>58</td>\n",
       "      <td>USA</td>\n",
       "      <td>North Carolina</td>\n",
       "      <td>White and gold</td>\n",
       "      <td>Friday</td>\n",
       "    </tr>\n",
       "    <tr>\n",
       "      <th>2459</th>\n",
       "      <td>No</td>\n",
       "      <td>Female</td>\n",
       "      <td>66</td>\n",
       "      <td>USA</td>\n",
       "      <td>Pennsylvania</td>\n",
       "      <td>White and gold</td>\n",
       "      <td>Sunday</td>\n",
       "    </tr>\n",
       "  </tbody>\n",
       "</table>\n",
       "<p>2422 rows × 7 columns</p>\n",
       "</div>"
      ],
      "text/plain": [
       "     GOING OUT?  GENDER  AGE COUNTRY           STATE           DRESS     DAY\n",
       "1            No    Male   44     USA              NM  White and gold  Sunday\n",
       "2            No    Male   49     USA        Virginia  White and gold  Friday\n",
       "3            No    Male   40     USA      CALIFORNIA  White and gold  Sunday\n",
       "4            No    Male   23     USA        exton pa  White and gold  Friday\n",
       "5            No    Male   42     USA      CALIFORNIA  White and gold  Friday\n",
       "...         ...     ...  ...     ...             ...             ...     ...\n",
       "2455         No    Male   24     USA              MD  White and gold  Friday\n",
       "2456         No  Female   33     USA        New York  Blue and black  Friday\n",
       "2457         No  Female   26     USA       Tennessee  Blue and black  Friday\n",
       "2458         No    Male   58     USA  North Carolina  White and gold  Friday\n",
       "2459         No  Female   66     USA    Pennsylvania  White and gold  Sunday\n",
       "\n",
       "[2422 rows x 7 columns]"
      ]
     },
     "execution_count": 76,
     "metadata": {},
     "output_type": "execute_result"
    }
   ],
   "source": [
    "df"
   ]
  },
  {
   "cell_type": "code",
   "execution_count": 77,
   "id": "27755cc9",
   "metadata": {},
   "outputs": [],
   "source": [
    "df['Coordinates_x'] = coordinates['Coordinates_x']\n",
    "df['Coordinates_y'] = coordinates['Coordinates_y']"
   ]
  },
  {
   "cell_type": "code",
   "execution_count": 78,
   "id": "6408dc57",
   "metadata": {},
   "outputs": [
    {
     "data": {
      "text/html": [
       "<div>\n",
       "<style scoped>\n",
       "    .dataframe tbody tr th:only-of-type {\n",
       "        vertical-align: middle;\n",
       "    }\n",
       "\n",
       "    .dataframe tbody tr th {\n",
       "        vertical-align: top;\n",
       "    }\n",
       "\n",
       "    .dataframe thead th {\n",
       "        text-align: right;\n",
       "    }\n",
       "</style>\n",
       "<table border=\"1\" class=\"dataframe\">\n",
       "  <thead>\n",
       "    <tr style=\"text-align: right;\">\n",
       "      <th></th>\n",
       "      <th>GOING OUT?</th>\n",
       "      <th>GENDER</th>\n",
       "      <th>AGE</th>\n",
       "      <th>COUNTRY</th>\n",
       "      <th>STATE</th>\n",
       "      <th>DRESS</th>\n",
       "      <th>DAY</th>\n",
       "      <th>Coordinates_x</th>\n",
       "      <th>Coordinates_y</th>\n",
       "    </tr>\n",
       "  </thead>\n",
       "  <tbody>\n",
       "    <tr>\n",
       "      <th>1</th>\n",
       "      <td>No</td>\n",
       "      <td>Male</td>\n",
       "      <td>44</td>\n",
       "      <td>USA</td>\n",
       "      <td>NM</td>\n",
       "      <td>White and gold</td>\n",
       "      <td>Sunday</td>\n",
       "      <td>84</td>\n",
       "      <td>25</td>\n",
       "    </tr>\n",
       "    <tr>\n",
       "      <th>2</th>\n",
       "      <td>No</td>\n",
       "      <td>Male</td>\n",
       "      <td>49</td>\n",
       "      <td>USA</td>\n",
       "      <td>Virginia</td>\n",
       "      <td>White and gold</td>\n",
       "      <td>Friday</td>\n",
       "      <td>76</td>\n",
       "      <td>31</td>\n",
       "    </tr>\n",
       "    <tr>\n",
       "      <th>3</th>\n",
       "      <td>No</td>\n",
       "      <td>Male</td>\n",
       "      <td>40</td>\n",
       "      <td>USA</td>\n",
       "      <td>CALIFORNIA</td>\n",
       "      <td>White and gold</td>\n",
       "      <td>Sunday</td>\n",
       "      <td>75</td>\n",
       "      <td>23</td>\n",
       "    </tr>\n",
       "    <tr>\n",
       "      <th>4</th>\n",
       "      <td>No</td>\n",
       "      <td>Male</td>\n",
       "      <td>23</td>\n",
       "      <td>USA</td>\n",
       "      <td>exton pa</td>\n",
       "      <td>White and gold</td>\n",
       "      <td>Friday</td>\n",
       "      <td>70</td>\n",
       "      <td>10</td>\n",
       "    </tr>\n",
       "    <tr>\n",
       "      <th>5</th>\n",
       "      <td>No</td>\n",
       "      <td>Male</td>\n",
       "      <td>42</td>\n",
       "      <td>USA</td>\n",
       "      <td>CALIFORNIA</td>\n",
       "      <td>White and gold</td>\n",
       "      <td>Friday</td>\n",
       "      <td>75</td>\n",
       "      <td>23</td>\n",
       "    </tr>\n",
       "  </tbody>\n",
       "</table>\n",
       "</div>"
      ],
      "text/plain": [
       "  GOING OUT? GENDER  AGE COUNTRY       STATE           DRESS     DAY  \\\n",
       "1         No   Male   44     USA          NM  White and gold  Sunday   \n",
       "2         No   Male   49     USA    Virginia  White and gold  Friday   \n",
       "3         No   Male   40     USA  CALIFORNIA  White and gold  Sunday   \n",
       "4         No   Male   23     USA    exton pa  White and gold  Friday   \n",
       "5         No   Male   42     USA  CALIFORNIA  White and gold  Friday   \n",
       "\n",
       "   Coordinates_x  Coordinates_y  \n",
       "1             84             25  \n",
       "2             76             31  \n",
       "3             75             23  \n",
       "4             70             10  \n",
       "5             75             23  "
      ]
     },
     "execution_count": 78,
     "metadata": {},
     "output_type": "execute_result"
    }
   ],
   "source": [
    "df.head()"
   ]
  },
  {
   "cell_type": "code",
   "execution_count": 79,
   "id": "5c40a3f4",
   "metadata": {},
   "outputs": [
    {
     "data": {
      "text/plain": [
       "GOING OUT?       0\n",
       "GENDER           0\n",
       "AGE              0\n",
       "COUNTRY          0\n",
       "STATE            0\n",
       "DRESS            0\n",
       "DAY              0\n",
       "Coordinates_x    0\n",
       "Coordinates_y    0\n",
       "dtype: int64"
      ]
     },
     "execution_count": 79,
     "metadata": {},
     "output_type": "execute_result"
    }
   ],
   "source": [
    "df.isna().sum()"
   ]
  },
  {
   "cell_type": "markdown",
   "id": "2b7c2924",
   "metadata": {},
   "source": [
    "### Q6-Joy Or Despair"
   ]
  },
  {
   "cell_type": "code",
   "execution_count": 80,
   "id": "fafd2d25",
   "metadata": {},
   "outputs": [
    {
     "data": {
      "text/plain": [
       "Q6 | 100 Grand Bar                                                                        747\n",
       "Q6 | Anonymous brown globs that come in black and orange wrappers\\t(a.k.a. Mary Janes)    734\n",
       "Q6 | Any full-sized candy bar                                                             672\n",
       "Q6 | Black Jacks                                                                          958\n",
       "Q6 | Bonkers (the candy)                                                                  992\n",
       "                                                                                         ... \n",
       "Q6 | Vicodin                                                                              789\n",
       "Q6 | Whatchamacallit Bars                                                                 823\n",
       "Q6 | White Bread                                                                          757\n",
       "Q6 | Whole Wheat anything                                                                 747\n",
       "Q6 | York Peppermint Patties                                                              705\n",
       "Length: 103, dtype: int64"
      ]
     },
     "execution_count": 80,
     "metadata": {},
     "output_type": "execute_result"
    }
   ],
   "source": [
    "df_Q6.isna().sum()"
   ]
  },
  {
   "cell_type": "code",
   "execution_count": 81,
   "id": "6b7ee662",
   "metadata": {},
   "outputs": [
    {
     "data": {
      "text/html": [
       "<div>\n",
       "<style scoped>\n",
       "    .dataframe tbody tr th:only-of-type {\n",
       "        vertical-align: middle;\n",
       "    }\n",
       "\n",
       "    .dataframe tbody tr th {\n",
       "        vertical-align: top;\n",
       "    }\n",
       "\n",
       "    .dataframe thead th {\n",
       "        text-align: right;\n",
       "    }\n",
       "</style>\n",
       "<table border=\"1\" class=\"dataframe\">\n",
       "  <thead>\n",
       "    <tr style=\"text-align: right;\">\n",
       "      <th></th>\n",
       "      <th>Q6 | 100 Grand Bar</th>\n",
       "      <th>Q6 | Anonymous brown globs that come in black and orange wrappers\\t(a.k.a. Mary Janes)</th>\n",
       "      <th>Q6 | Any full-sized candy bar</th>\n",
       "      <th>Q6 | Black Jacks</th>\n",
       "      <th>Q6 | Bonkers (the candy)</th>\n",
       "      <th>Q6 | Bonkers (the board game)</th>\n",
       "      <th>Q6 | Bottle Caps</th>\n",
       "      <th>Q6 | Box'o'Raisins</th>\n",
       "      <th>Q6 | Broken glow stick</th>\n",
       "      <th>Q6 | Butterfinger</th>\n",
       "      <th>...</th>\n",
       "      <th>Q6 | Three Musketeers</th>\n",
       "      <th>Q6 | Tolberone something or other</th>\n",
       "      <th>Q6 | Trail Mix</th>\n",
       "      <th>Q6 | Twix</th>\n",
       "      <th>Q6 | Vials of pure high fructose corn syrup, for main-lining into your vein</th>\n",
       "      <th>Q6 | Vicodin</th>\n",
       "      <th>Q6 | Whatchamacallit Bars</th>\n",
       "      <th>Q6 | White Bread</th>\n",
       "      <th>Q6 | Whole Wheat anything</th>\n",
       "      <th>Q6 | York Peppermint Patties</th>\n",
       "    </tr>\n",
       "  </thead>\n",
       "  <tbody>\n",
       "    <tr>\n",
       "      <th>0</th>\n",
       "      <td>NaN</td>\n",
       "      <td>NaN</td>\n",
       "      <td>NaN</td>\n",
       "      <td>NaN</td>\n",
       "      <td>NaN</td>\n",
       "      <td>NaN</td>\n",
       "      <td>NaN</td>\n",
       "      <td>NaN</td>\n",
       "      <td>NaN</td>\n",
       "      <td>NaN</td>\n",
       "      <td>...</td>\n",
       "      <td>NaN</td>\n",
       "      <td>NaN</td>\n",
       "      <td>NaN</td>\n",
       "      <td>NaN</td>\n",
       "      <td>NaN</td>\n",
       "      <td>NaN</td>\n",
       "      <td>NaN</td>\n",
       "      <td>NaN</td>\n",
       "      <td>NaN</td>\n",
       "      <td>NaN</td>\n",
       "    </tr>\n",
       "    <tr>\n",
       "      <th>1</th>\n",
       "      <td>MEH</td>\n",
       "      <td>DESPAIR</td>\n",
       "      <td>JOY</td>\n",
       "      <td>MEH</td>\n",
       "      <td>DESPAIR</td>\n",
       "      <td>DESPAIR</td>\n",
       "      <td>DESPAIR</td>\n",
       "      <td>DESPAIR</td>\n",
       "      <td>DESPAIR</td>\n",
       "      <td>DESPAIR</td>\n",
       "      <td>...</td>\n",
       "      <td>JOY</td>\n",
       "      <td>JOY</td>\n",
       "      <td>DESPAIR</td>\n",
       "      <td>JOY</td>\n",
       "      <td>DESPAIR</td>\n",
       "      <td>DESPAIR</td>\n",
       "      <td>DESPAIR</td>\n",
       "      <td>DESPAIR</td>\n",
       "      <td>DESPAIR</td>\n",
       "      <td>DESPAIR</td>\n",
       "    </tr>\n",
       "    <tr>\n",
       "      <th>2</th>\n",
       "      <td>NaN</td>\n",
       "      <td>NaN</td>\n",
       "      <td>NaN</td>\n",
       "      <td>NaN</td>\n",
       "      <td>NaN</td>\n",
       "      <td>NaN</td>\n",
       "      <td>NaN</td>\n",
       "      <td>NaN</td>\n",
       "      <td>NaN</td>\n",
       "      <td>NaN</td>\n",
       "      <td>...</td>\n",
       "      <td>NaN</td>\n",
       "      <td>NaN</td>\n",
       "      <td>NaN</td>\n",
       "      <td>NaN</td>\n",
       "      <td>NaN</td>\n",
       "      <td>NaN</td>\n",
       "      <td>NaN</td>\n",
       "      <td>NaN</td>\n",
       "      <td>NaN</td>\n",
       "      <td>NaN</td>\n",
       "    </tr>\n",
       "    <tr>\n",
       "      <th>3</th>\n",
       "      <td>MEH</td>\n",
       "      <td>DESPAIR</td>\n",
       "      <td>JOY</td>\n",
       "      <td>MEH</td>\n",
       "      <td>MEH</td>\n",
       "      <td>DESPAIR</td>\n",
       "      <td>MEH</td>\n",
       "      <td>DESPAIR</td>\n",
       "      <td>DESPAIR</td>\n",
       "      <td>MEH</td>\n",
       "      <td>...</td>\n",
       "      <td>DESPAIR</td>\n",
       "      <td>JOY</td>\n",
       "      <td>MEH</td>\n",
       "      <td>JOY</td>\n",
       "      <td>DESPAIR</td>\n",
       "      <td>JOY</td>\n",
       "      <td>JOY</td>\n",
       "      <td>DESPAIR</td>\n",
       "      <td>DESPAIR</td>\n",
       "      <td>DESPAIR</td>\n",
       "    </tr>\n",
       "    <tr>\n",
       "      <th>4</th>\n",
       "      <td>JOY</td>\n",
       "      <td>DESPAIR</td>\n",
       "      <td>JOY</td>\n",
       "      <td>DESPAIR</td>\n",
       "      <td>MEH</td>\n",
       "      <td>DESPAIR</td>\n",
       "      <td>MEH</td>\n",
       "      <td>DESPAIR</td>\n",
       "      <td>DESPAIR</td>\n",
       "      <td>MEH</td>\n",
       "      <td>...</td>\n",
       "      <td>JOY</td>\n",
       "      <td>JOY</td>\n",
       "      <td>DESPAIR</td>\n",
       "      <td>JOY</td>\n",
       "      <td>MEH</td>\n",
       "      <td>JOY</td>\n",
       "      <td>JOY</td>\n",
       "      <td>DESPAIR</td>\n",
       "      <td>DESPAIR</td>\n",
       "      <td>JOY</td>\n",
       "    </tr>\n",
       "  </tbody>\n",
       "</table>\n",
       "<p>5 rows × 103 columns</p>\n",
       "</div>"
      ],
      "text/plain": [
       "  Q6 | 100 Grand Bar  \\\n",
       "0                NaN   \n",
       "1                MEH   \n",
       "2                NaN   \n",
       "3                MEH   \n",
       "4                JOY   \n",
       "\n",
       "  Q6 | Anonymous brown globs that come in black and orange wrappers\\t(a.k.a. Mary Janes)  \\\n",
       "0                                                NaN                                       \n",
       "1                                            DESPAIR                                       \n",
       "2                                                NaN                                       \n",
       "3                                            DESPAIR                                       \n",
       "4                                            DESPAIR                                       \n",
       "\n",
       "  Q6 | Any full-sized candy bar Q6 | Black Jacks Q6 | Bonkers (the candy)  \\\n",
       "0                           NaN              NaN                      NaN   \n",
       "1                           JOY              MEH                  DESPAIR   \n",
       "2                           NaN              NaN                      NaN   \n",
       "3                           JOY              MEH                      MEH   \n",
       "4                           JOY          DESPAIR                      MEH   \n",
       "\n",
       "  Q6 | Bonkers (the board game) Q6 | Bottle Caps Q6 | Box'o'Raisins  \\\n",
       "0                           NaN              NaN                NaN   \n",
       "1                       DESPAIR          DESPAIR            DESPAIR   \n",
       "2                           NaN              NaN                NaN   \n",
       "3                       DESPAIR              MEH            DESPAIR   \n",
       "4                       DESPAIR              MEH            DESPAIR   \n",
       "\n",
       "  Q6 | Broken glow stick Q6 | Butterfinger  ... Q6 | Three Musketeers  \\\n",
       "0                    NaN               NaN  ...                   NaN   \n",
       "1                DESPAIR           DESPAIR  ...                   JOY   \n",
       "2                    NaN               NaN  ...                   NaN   \n",
       "3                DESPAIR               MEH  ...               DESPAIR   \n",
       "4                DESPAIR               MEH  ...                   JOY   \n",
       "\n",
       "  Q6 | Tolberone something or other Q6 | Trail Mix Q6 | Twix  \\\n",
       "0                               NaN            NaN       NaN   \n",
       "1                               JOY        DESPAIR       JOY   \n",
       "2                               NaN            NaN       NaN   \n",
       "3                               JOY            MEH       JOY   \n",
       "4                               JOY        DESPAIR       JOY   \n",
       "\n",
       "  Q6 | Vials of pure high fructose corn syrup, for main-lining into your vein  \\\n",
       "0                                                NaN                            \n",
       "1                                            DESPAIR                            \n",
       "2                                                NaN                            \n",
       "3                                            DESPAIR                            \n",
       "4                                                MEH                            \n",
       "\n",
       "  Q6 | Vicodin Q6 | Whatchamacallit Bars Q6 | White Bread  \\\n",
       "0          NaN                       NaN              NaN   \n",
       "1      DESPAIR                   DESPAIR          DESPAIR   \n",
       "2          NaN                       NaN              NaN   \n",
       "3          JOY                       JOY          DESPAIR   \n",
       "4          JOY                       JOY          DESPAIR   \n",
       "\n",
       "  Q6 | Whole Wheat anything Q6 | York Peppermint Patties  \n",
       "0                       NaN                          NaN  \n",
       "1                   DESPAIR                      DESPAIR  \n",
       "2                       NaN                          NaN  \n",
       "3                   DESPAIR                      DESPAIR  \n",
       "4                   DESPAIR                          JOY  \n",
       "\n",
       "[5 rows x 103 columns]"
      ]
     },
     "execution_count": 81,
     "metadata": {},
     "output_type": "execute_result"
    }
   ],
   "source": [
    "df_Q6.head()"
   ]
  },
  {
   "cell_type": "code",
   "execution_count": 82,
   "id": "82beefec",
   "metadata": {},
   "outputs": [
    {
     "data": {
      "text/plain": [
       "(2460, 103)"
      ]
     },
     "execution_count": 82,
     "metadata": {},
     "output_type": "execute_result"
    }
   ],
   "source": [
    "df_Q6.shape"
   ]
  },
  {
   "cell_type": "code",
   "execution_count": 83,
   "id": "b3f6b74e",
   "metadata": {},
   "outputs": [],
   "source": [
    "df_Q6.drop_duplicates(inplace=True)"
   ]
  },
  {
   "cell_type": "code",
   "execution_count": 84,
   "id": "5679e3a7",
   "metadata": {},
   "outputs": [
    {
     "data": {
      "text/plain": [
       "(1804, 103)"
      ]
     },
     "execution_count": 84,
     "metadata": {},
     "output_type": "execute_result"
    }
   ],
   "source": [
    "df_Q6.shape"
   ]
  },
  {
   "cell_type": "code",
   "execution_count": 85,
   "id": "20d70570",
   "metadata": {},
   "outputs": [],
   "source": [
    "df_Q6.dropna(how='all',inplace=True)"
   ]
  },
  {
   "cell_type": "code",
   "execution_count": 86,
   "id": "50a70501",
   "metadata": {},
   "outputs": [
    {
     "data": {
      "text/plain": [
       "(1803, 103)"
      ]
     },
     "execution_count": 86,
     "metadata": {},
     "output_type": "execute_result"
    }
   ],
   "source": [
    "df_Q6.shape"
   ]
  },
  {
   "cell_type": "code",
   "execution_count": 87,
   "id": "690fce40",
   "metadata": {},
   "outputs": [
    {
     "data": {
      "text/plain": [
       "Index(['Q6 | 100 Grand Bar',\n",
       "       'Q6 | Anonymous brown globs that come in black and orange wrappers\\t(a.k.a. Mary Janes)',\n",
       "       'Q6 | Any full-sized candy bar', 'Q6 | Black Jacks',\n",
       "       'Q6 | Bonkers (the candy)', 'Q6 | Bonkers (the board game)',\n",
       "       'Q6 | Bottle Caps', 'Q6 | Box'o'Raisins', 'Q6 | Broken glow stick',\n",
       "       'Q6 | Butterfinger',\n",
       "       ...\n",
       "       'Q6 | Three Musketeers', 'Q6 | Tolberone something or other',\n",
       "       'Q6 | Trail Mix', 'Q6 | Twix',\n",
       "       'Q6 | Vials of pure high fructose corn syrup, for main-lining into your vein',\n",
       "       'Q6 | Vicodin', 'Q6 | Whatchamacallit Bars', 'Q6 | White Bread',\n",
       "       'Q6 | Whole Wheat anything', 'Q6 | York Peppermint Patties'],\n",
       "      dtype='object', length=103)"
      ]
     },
     "execution_count": 87,
     "metadata": {},
     "output_type": "execute_result"
    }
   ],
   "source": [
    "df_Q6.columns"
   ]
  },
  {
   "cell_type": "code",
   "execution_count": 88,
   "id": "113a4415",
   "metadata": {},
   "outputs": [],
   "source": [
    "edit_list = []\n",
    "for i in list(df_Q6.columns):\n",
    "    i = i.replace(i[:4],'').strip()\n",
    "    edit_list.append(i)"
   ]
  },
  {
   "cell_type": "code",
   "execution_count": 89,
   "id": "6a184a11",
   "metadata": {},
   "outputs": [],
   "source": [
    "df_Q6.columns = edit_list"
   ]
  },
  {
   "cell_type": "code",
   "execution_count": 90,
   "id": "c3fae190",
   "metadata": {},
   "outputs": [
    {
     "data": {
      "text/plain": [
       "Index(['100 Grand Bar',\n",
       "       'Anonymous brown globs that come in black and orange wrappers\\t(a.k.a. Mary Janes)',\n",
       "       'Any full-sized candy bar', 'Black Jacks', 'Bonkers (the candy)',\n",
       "       'Bonkers (the board game)', 'Bottle Caps', 'Box'o'Raisins',\n",
       "       'Broken glow stick', 'Butterfinger',\n",
       "       ...\n",
       "       'Three Musketeers', 'Tolberone something or other', 'Trail Mix', 'Twix',\n",
       "       'Vials of pure high fructose corn syrup, for main-lining into your vein',\n",
       "       'Vicodin', 'Whatchamacallit Bars', 'White Bread',\n",
       "       'Whole Wheat anything', 'York Peppermint Patties'],\n",
       "      dtype='object', length=103)"
      ]
     },
     "execution_count": 90,
     "metadata": {},
     "output_type": "execute_result"
    }
   ],
   "source": [
    "df_Q6.columns"
   ]
  },
  {
   "cell_type": "code",
   "execution_count": 91,
   "id": "d7f84c9b",
   "metadata": {},
   "outputs": [
    {
     "data": {
      "text/plain": [
       "JoyJoy (Mit Iodine!)                           369\n",
       "Maynards                                       367\n",
       "Reggie Jackson Bar                             357\n",
       "Bonkers (the board game)                       349\n",
       "Sweetums (a friend to diabetes)                345\n",
       "Bonkers (the candy)                            335\n",
       "Black Jacks                                    301\n",
       "Chick-o-Sticks (we don’t know what that is)    289\n",
       "Kinder Happy Hippo                             288\n",
       "Abstained from M&M'ing.                        285\n",
       "dtype: int64"
      ]
     },
     "execution_count": 91,
     "metadata": {},
     "output_type": "execute_result"
    }
   ],
   "source": [
    "df_Q6.isna().sum().sort_values(ascending=False).head(10)"
   ]
  },
  {
   "cell_type": "code",
   "execution_count": 92,
   "id": "1dacc572",
   "metadata": {},
   "outputs": [
    {
     "data": {
      "text/html": [
       "<div>\n",
       "<style scoped>\n",
       "    .dataframe tbody tr th:only-of-type {\n",
       "        vertical-align: middle;\n",
       "    }\n",
       "\n",
       "    .dataframe tbody tr th {\n",
       "        vertical-align: top;\n",
       "    }\n",
       "\n",
       "    .dataframe thead th {\n",
       "        text-align: right;\n",
       "    }\n",
       "</style>\n",
       "<table border=\"1\" class=\"dataframe\">\n",
       "  <thead>\n",
       "    <tr style=\"text-align: right;\">\n",
       "      <th></th>\n",
       "      <th>100 Grand Bar</th>\n",
       "      <th>Anonymous brown globs that come in black and orange wrappers\\t(a.k.a. Mary Janes)</th>\n",
       "      <th>Any full-sized candy bar</th>\n",
       "      <th>Black Jacks</th>\n",
       "      <th>Bonkers (the candy)</th>\n",
       "      <th>Bonkers (the board game)</th>\n",
       "      <th>Bottle Caps</th>\n",
       "      <th>Box'o'Raisins</th>\n",
       "      <th>Broken glow stick</th>\n",
       "      <th>Butterfinger</th>\n",
       "      <th>...</th>\n",
       "      <th>Three Musketeers</th>\n",
       "      <th>Tolberone something or other</th>\n",
       "      <th>Trail Mix</th>\n",
       "      <th>Twix</th>\n",
       "      <th>Vials of pure high fructose corn syrup, for main-lining into your vein</th>\n",
       "      <th>Vicodin</th>\n",
       "      <th>Whatchamacallit Bars</th>\n",
       "      <th>White Bread</th>\n",
       "      <th>Whole Wheat anything</th>\n",
       "      <th>York Peppermint Patties</th>\n",
       "    </tr>\n",
       "  </thead>\n",
       "  <tbody>\n",
       "    <tr>\n",
       "      <th>0</th>\n",
       "      <td>JOY</td>\n",
       "      <td>DESPAIR</td>\n",
       "      <td>JOY</td>\n",
       "      <td>DESPAIR</td>\n",
       "      <td>MEH</td>\n",
       "      <td>MEH</td>\n",
       "      <td>MEH</td>\n",
       "      <td>DESPAIR</td>\n",
       "      <td>DESPAIR</td>\n",
       "      <td>JOY</td>\n",
       "      <td>...</td>\n",
       "      <td>JOY</td>\n",
       "      <td>JOY</td>\n",
       "      <td>DESPAIR</td>\n",
       "      <td>JOY</td>\n",
       "      <td>DESPAIR</td>\n",
       "      <td>DESPAIR</td>\n",
       "      <td>JOY</td>\n",
       "      <td>DESPAIR</td>\n",
       "      <td>DESPAIR</td>\n",
       "      <td>JOY</td>\n",
       "    </tr>\n",
       "  </tbody>\n",
       "</table>\n",
       "<p>1 rows × 103 columns</p>\n",
       "</div>"
      ],
      "text/plain": [
       "  100 Grand Bar  \\\n",
       "0           JOY   \n",
       "\n",
       "  Anonymous brown globs that come in black and orange wrappers\\t(a.k.a. Mary Janes)  \\\n",
       "0                                            DESPAIR                                  \n",
       "\n",
       "  Any full-sized candy bar Black Jacks Bonkers (the candy)  \\\n",
       "0                      JOY     DESPAIR                 MEH   \n",
       "\n",
       "  Bonkers (the board game) Bottle Caps Box'o'Raisins Broken glow stick  \\\n",
       "0                      MEH         MEH       DESPAIR           DESPAIR   \n",
       "\n",
       "  Butterfinger  ... Three Musketeers Tolberone something or other Trail Mix  \\\n",
       "0          JOY  ...              JOY                          JOY   DESPAIR   \n",
       "\n",
       "  Twix Vials of pure high fructose corn syrup, for main-lining into your vein  \\\n",
       "0  JOY                                            DESPAIR                       \n",
       "\n",
       "   Vicodin Whatchamacallit Bars White Bread Whole Wheat anything  \\\n",
       "0  DESPAIR                  JOY     DESPAIR              DESPAIR   \n",
       "\n",
       "  York Peppermint Patties  \n",
       "0                     JOY  \n",
       "\n",
       "[1 rows x 103 columns]"
      ]
     },
     "execution_count": 92,
     "metadata": {},
     "output_type": "execute_result"
    }
   ],
   "source": [
    "df_Q6.mode()"
   ]
  },
  {
   "cell_type": "code",
   "execution_count": 93,
   "id": "d07ce6bc",
   "metadata": {},
   "outputs": [],
   "source": [
    "df_Q6.fillna(df_Q6.mode,inplace=True)"
   ]
  },
  {
   "cell_type": "code",
   "execution_count": 94,
   "id": "ab7836bf",
   "metadata": {},
   "outputs": [
    {
     "data": {
      "text/html": [
       "<div>\n",
       "<style scoped>\n",
       "    .dataframe tbody tr th:only-of-type {\n",
       "        vertical-align: middle;\n",
       "    }\n",
       "\n",
       "    .dataframe tbody tr th {\n",
       "        vertical-align: top;\n",
       "    }\n",
       "\n",
       "    .dataframe thead th {\n",
       "        text-align: right;\n",
       "    }\n",
       "</style>\n",
       "<table border=\"1\" class=\"dataframe\">\n",
       "  <thead>\n",
       "    <tr style=\"text-align: right;\">\n",
       "      <th></th>\n",
       "      <th>100 Grand Bar</th>\n",
       "      <th>Anonymous brown globs that come in black and orange wrappers\\t(a.k.a. Mary Janes)</th>\n",
       "      <th>Any full-sized candy bar</th>\n",
       "      <th>Black Jacks</th>\n",
       "      <th>Bonkers (the candy)</th>\n",
       "      <th>Bonkers (the board game)</th>\n",
       "      <th>Bottle Caps</th>\n",
       "      <th>Box'o'Raisins</th>\n",
       "      <th>Broken glow stick</th>\n",
       "      <th>Butterfinger</th>\n",
       "      <th>...</th>\n",
       "      <th>Three Musketeers</th>\n",
       "      <th>Tolberone something or other</th>\n",
       "      <th>Trail Mix</th>\n",
       "      <th>Twix</th>\n",
       "      <th>Vials of pure high fructose corn syrup, for main-lining into your vein</th>\n",
       "      <th>Vicodin</th>\n",
       "      <th>Whatchamacallit Bars</th>\n",
       "      <th>White Bread</th>\n",
       "      <th>Whole Wheat anything</th>\n",
       "      <th>York Peppermint Patties</th>\n",
       "    </tr>\n",
       "  </thead>\n",
       "  <tbody>\n",
       "    <tr>\n",
       "      <th>0</th>\n",
       "      <td>JOY</td>\n",
       "      <td>DESPAIR</td>\n",
       "      <td>JOY</td>\n",
       "      <td>DESPAIR</td>\n",
       "      <td>MEH</td>\n",
       "      <td>MEH</td>\n",
       "      <td>MEH</td>\n",
       "      <td>DESPAIR</td>\n",
       "      <td>DESPAIR</td>\n",
       "      <td>JOY</td>\n",
       "      <td>...</td>\n",
       "      <td>JOY</td>\n",
       "      <td>JOY</td>\n",
       "      <td>DESPAIR</td>\n",
       "      <td>JOY</td>\n",
       "      <td>DESPAIR</td>\n",
       "      <td>DESPAIR</td>\n",
       "      <td>JOY</td>\n",
       "      <td>DESPAIR</td>\n",
       "      <td>DESPAIR</td>\n",
       "      <td>JOY</td>\n",
       "    </tr>\n",
       "  </tbody>\n",
       "</table>\n",
       "<p>1 rows × 103 columns</p>\n",
       "</div>"
      ],
      "text/plain": [
       "  100 Grand Bar  \\\n",
       "0           JOY   \n",
       "\n",
       "  Anonymous brown globs that come in black and orange wrappers\\t(a.k.a. Mary Janes)  \\\n",
       "0                                            DESPAIR                                  \n",
       "\n",
       "  Any full-sized candy bar Black Jacks Bonkers (the candy)  \\\n",
       "0                      JOY     DESPAIR                 MEH   \n",
       "\n",
       "  Bonkers (the board game) Bottle Caps Box'o'Raisins Broken glow stick  \\\n",
       "0                      MEH         MEH       DESPAIR           DESPAIR   \n",
       "\n",
       "  Butterfinger  ... Three Musketeers Tolberone something or other Trail Mix  \\\n",
       "0          JOY  ...              JOY                          JOY   DESPAIR   \n",
       "\n",
       "  Twix Vials of pure high fructose corn syrup, for main-lining into your vein  \\\n",
       "0  JOY                                            DESPAIR                       \n",
       "\n",
       "   Vicodin Whatchamacallit Bars White Bread Whole Wheat anything  \\\n",
       "0  DESPAIR                  JOY     DESPAIR              DESPAIR   \n",
       "\n",
       "  York Peppermint Patties  \n",
       "0                     JOY  \n",
       "\n",
       "[1 rows x 103 columns]"
      ]
     },
     "execution_count": 94,
     "metadata": {},
     "output_type": "execute_result"
    }
   ],
   "source": [
    "df_Q6.mode()"
   ]
  },
  {
   "cell_type": "code",
   "execution_count": 95,
   "id": "14b93837",
   "metadata": {},
   "outputs": [
    {
     "data": {
      "text/plain": [
       "100 Grand Bar                                         0\n",
       "Mint Juleps                                           0\n",
       "Reese’s Peanut Butter Cups                            0\n",
       "Real Housewives of Orange County Season 9 Blue-Ray    0\n",
       "Pixy Stix                                             0\n",
       "                                                     ..\n",
       "Healthy Fruit                                         0\n",
       "Hard Candy                                            0\n",
       "Gummy Bears straight up                               0\n",
       "Gum from baseball cards                               0\n",
       "York Peppermint Patties                               0\n",
       "Length: 103, dtype: int64"
      ]
     },
     "execution_count": 95,
     "metadata": {},
     "output_type": "execute_result"
    }
   ],
   "source": [
    "df_Q6.isna().sum().sort_values(ascending=False)"
   ]
  },
  {
   "cell_type": "code",
   "execution_count": 96,
   "id": "5f4e7251",
   "metadata": {},
   "outputs": [
    {
     "name": "stdout",
     "output_type": "stream",
     "text": [
      "<class 'pandas.core.frame.DataFrame'>\n",
      "Int64Index: 2422 entries, 1 to 2459\n",
      "Data columns (total 9 columns):\n",
      " #   Column         Non-Null Count  Dtype \n",
      "---  ------         --------------  ----- \n",
      " 0   GOING OUT?     2422 non-null   object\n",
      " 1   GENDER         2422 non-null   object\n",
      " 2   AGE            2422 non-null   int32 \n",
      " 3   COUNTRY        2422 non-null   object\n",
      " 4   STATE          2422 non-null   object\n",
      " 5   DRESS          2422 non-null   object\n",
      " 6   DAY            2422 non-null   object\n",
      " 7   Coordinates_x  2422 non-null   int32 \n",
      " 8   Coordinates_y  2422 non-null   int32 \n",
      "dtypes: int32(3), object(6)\n",
      "memory usage: 160.8+ KB\n"
     ]
    }
   ],
   "source": [
    "df.info()"
   ]
  },
  {
   "cell_type": "code",
   "execution_count": 97,
   "id": "b35509d9",
   "metadata": {},
   "outputs": [],
   "source": [
    "df['GOING OUT?'] = df['GOING OUT?'].astype('category')"
   ]
  },
  {
   "cell_type": "code",
   "execution_count": 98,
   "id": "4c8008d4",
   "metadata": {},
   "outputs": [],
   "source": [
    "df['GENDER'] = df['GENDER'].astype('category')\n",
    "df['COUNTRY'] = df['COUNTRY'].astype('category')\n",
    "df['STATE'] = df['STATE'].astype('category')\n",
    "df['DAY'] = df['DAY'].astype('category')"
   ]
  },
  {
   "cell_type": "code",
   "execution_count": 99,
   "id": "691f610c",
   "metadata": {},
   "outputs": [
    {
     "name": "stdout",
     "output_type": "stream",
     "text": [
      "<class 'pandas.core.frame.DataFrame'>\n",
      "Int64Index: 2422 entries, 1 to 2459\n",
      "Data columns (total 9 columns):\n",
      " #   Column         Non-Null Count  Dtype   \n",
      "---  ------         --------------  -----   \n",
      " 0   GOING OUT?     2422 non-null   category\n",
      " 1   GENDER         2422 non-null   category\n",
      " 2   AGE            2422 non-null   int32   \n",
      " 3   COUNTRY        2422 non-null   category\n",
      " 4   STATE          2422 non-null   category\n",
      " 5   DRESS          2422 non-null   object  \n",
      " 6   DAY            2422 non-null   category\n",
      " 7   Coordinates_x  2422 non-null   int32   \n",
      " 8   Coordinates_y  2422 non-null   int32   \n",
      "dtypes: category(5), int32(3), object(1)\n",
      "memory usage: 102.9+ KB\n"
     ]
    }
   ],
   "source": [
    "df.info()"
   ]
  },
  {
   "cell_type": "code",
   "execution_count": 100,
   "id": "28ebc368",
   "metadata": {},
   "outputs": [
    {
     "name": "stderr",
     "output_type": "stream",
     "text": [
      "C:\\ProgramData\\Anaconda3\\lib\\site-packages\\seaborn\\_decorators.py:36: FutureWarning: Pass the following variable as a keyword arg: x. From version 0.12, the only valid positional argument will be `data`, and passing other arguments without an explicit keyword will result in an error or misinterpretation.\n",
      "  warnings.warn(\n"
     ]
    },
    {
     "data": {
      "text/plain": [
       "<AxesSubplot:xlabel='GENDER', ylabel='count'>"
      ]
     },
     "execution_count": 100,
     "metadata": {},
     "output_type": "execute_result"
    },
    {
     "data": {
      "image/png": "[encoded data removed]",
      "text/plain": [
       "<Figure size 432x288 with 1 Axes>"
      ]
     },
     "metadata": {},
     "output_type": "display_data"
    }
   ],
   "source": [
    "sns.countplot('GENDER',data=df)"
   ]
  },
  {
   "cell_type": "code",
   "execution_count": null,
   "id": "12e14871",
   "metadata": {},
   "outputs": [],
   "source": []
  },
  {
   "cell_type": "code",
   "execution_count": 101,
   "id": "3b14d4a0",
   "metadata": {},
   "outputs": [],
   "source": [
    "greaterCountries = df['COUNTRY'].value_counts().head(5)"
   ]
  },
  {
   "cell_type": "code",
   "execution_count": 102,
   "id": "5bbf5b7a",
   "metadata": {},
   "outputs": [
    {
     "data": {
      "text/plain": [
       "<AxesSubplot:ylabel='COUNTRY'>"
      ]
     },
     "execution_count": 102,
     "metadata": {},
     "output_type": "execute_result"
    },
    {
     "data": {
      "image/png": "[encoded data removed]",
      "text/plain": [
       "<Figure size 432x288 with 1 Axes>"
      ]
     },
     "metadata": {},
     "output_type": "display_data"
    }
   ],
   "source": [
    "sns.barplot(x=['USA','CANADA','UK','GERMANY','AUSTRALIA'],y=greaterCountries)"
   ]
  },
  {
   "cell_type": "code",
   "execution_count": 103,
   "id": "09f0e87d",
   "metadata": {},
   "outputs": [
    {
     "data": {
      "text/plain": [
       "CALIFORNIA         412\n",
       "ILLINOIS           118\n",
       "ONTARIO             99\n",
       "TEXAS               72\n",
       "OREGON              63\n",
       "                  ... \n",
       "New Mexico, USA      1\n",
       "New Hampshire        1\n",
       "New Hampshire        1\n",
       "Nc                   1\n",
       "Ørbæk                1\n",
       "Name: STATE, Length: 443, dtype: int64"
      ]
     },
     "execution_count": 103,
     "metadata": {},
     "output_type": "execute_result"
    }
   ],
   "source": [
    "df['STATE'].value_counts()"
   ]
  },
  {
   "cell_type": "code",
   "execution_count": 104,
   "id": "98ddf649",
   "metadata": {},
   "outputs": [
    {
     "data": {
      "text/plain": [
       "<AxesSubplot:ylabel='STATE'>"
      ]
     },
     "execution_count": 104,
     "metadata": {},
     "output_type": "execute_result"
    },
    {
     "data": {
      "image/png": "[encoded data removed]",
      "text/plain": [
       "<Figure size 432x288 with 1 Axes>"
      ]
     },
     "metadata": {},
     "output_type": "display_data"
    }
   ],
   "source": [
    "sns.barplot(x=['CALIFORNIA','ILLINOIS','ONTARIO','TEXAS','OREGON'], y=df['STATE'].value_counts().head(5))"
   ]
  },
  {
   "cell_type": "code",
   "execution_count": 105,
   "id": "18e66fea",
   "metadata": {},
   "outputs": [
    {
     "name": "stderr",
     "output_type": "stream",
     "text": [
      "C:\\ProgramData\\Anaconda3\\lib\\site-packages\\seaborn\\_decorators.py:36: FutureWarning: Pass the following variable as a keyword arg: x. From version 0.12, the only valid positional argument will be `data`, and passing other arguments without an explicit keyword will result in an error or misinterpretation.\n",
      "  warnings.warn(\n"
     ]
    },
    {
     "data": {
      "text/plain": [
       "<AxesSubplot:xlabel='DAY', ylabel='count'>"
      ]
     },
     "execution_count": 105,
     "metadata": {},
     "output_type": "execute_result"
    },
    {
     "data": {
      "image/png": "[encoded data removed]",
      "text/plain": [
       "<Figure size 432x288 with 1 Axes>"
      ]
     },
     "metadata": {},
     "output_type": "display_data"
    }
   ],
   "source": [
    "sns.countplot('DAY',data=df)"
   ]
  },
  {
   "cell_type": "code",
   "execution_count": 106,
   "id": "d0da7fe1",
   "metadata": {},
   "outputs": [
    {
     "data": {
      "text/plain": [
       "<AxesSubplot:xlabel='DRESS', ylabel='count'>"
      ]
     },
     "execution_count": 106,
     "metadata": {},
     "output_type": "execute_result"
    },
    {
     "data": {
      "image/png": "[encoded data removed]",
      "text/plain": [
       "<Figure size 432x288 with 1 Axes>"
      ]
     },
     "metadata": {},
     "output_type": "display_data"
    }
   ],
   "source": [
    "sns.countplot('DRESS',data=df)"
   ]
  },
  {
   "cell_type": "code",
   "execution_count": 107,
   "id": "d16da48d",
   "metadata": {},
   "outputs": [
    {
     "data": {
      "text/plain": [
       "<AxesSubplot:xlabel='Coordinates_x', ylabel='Coordinates_y'>"
      ]
     },
     "execution_count": 107,
     "metadata": {},
     "output_type": "execute_result"
    },
    {
     "data": {
      "image/png": "[encoded data removed]",
      "text/plain": [
       "<Figure size 432x288 with 1 Axes>"
      ]
     },
     "metadata": {},
     "output_type": "display_data"
    }
   ],
   "source": [
    "sns.scatterplot(x='Coordinates_x',y='Coordinates_y',data=df,hue='COUNTRY',legend=None,)"
   ]
  },
  {
   "cell_type": "code",
   "execution_count": 108,
   "id": "73a255e6",
   "metadata": {},
   "outputs": [
    {
     "data": {
      "text/plain": [
       "(array([ 39.,  55., 176., 414., 480., 600., 322., 212.,  85.,  39.]),\n",
       " array([10. , 16.4, 22.8, 29.2, 35.6, 42. , 48.4, 54.8, 61.2, 67.6, 74. ]),\n",
       " <BarContainer object of 10 artists>)"
      ]
     },
     "execution_count": 108,
     "metadata": {},
     "output_type": "execute_result"
    },
    {
     "data": {
      "image/png": "[encoded data removed]",
      "text/plain": [
       "<Figure size 432x288 with 1 Axes>"
      ]
     },
     "metadata": {},
     "output_type": "display_data"
    }
   ],
   "source": [
    "plt.hist(df['AGE'])"
   ]
  },
  {
   "cell_type": "code",
   "execution_count": null,
   "id": "a010bbf3",
   "metadata": {},
   "outputs": [],
   "source": []
  }
 ],
 "metadata": {
  "kernelspec": {
   "display_name": "Python 3 (ipykernel)",
   "language": "python",
   "name": "python3"
  },
  "language_info": {
   "codemirror_mode": {
    "name": "ipython",
    "version": 3
   },
   "file_extension": ".py",
   "mimetype": "text/x-python",
   "name": "python",
   "nbconvert_exporter": "python",
   "pygments_lexer": "ipython3",
   "version": "3.9.7"
  }
 },
 "nbformat": 4,
 "nbformat_minor": 5
}
