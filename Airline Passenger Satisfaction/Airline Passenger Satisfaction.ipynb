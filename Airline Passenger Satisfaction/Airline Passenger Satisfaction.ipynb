{
 "cells": [
  {
   "cell_type": "markdown",
   "id": "c1a1dc37",
   "metadata": {},
   "source": [
    "### Import Libraries"
   ]
  },
  {
   "cell_type": "code",
   "execution_count": 1,
   "id": "9bc014bc",
   "metadata": {},
   "outputs": [],
   "source": [
    "import pandas as pd\n",
    "import numpy as np\n",
    "import matplotlib.pyplot as plt\n",
    "import seaborn as sns"
   ]
  },
  {
   "cell_type": "markdown",
   "id": "6b06d8b1",
   "metadata": {},
   "source": [
    "### Prepare data"
   ]
  },
  {
   "cell_type": "code",
   "execution_count": 2,
   "id": "f30af37a",
   "metadata": {},
   "outputs": [
    {
     "data": {
      "text/html": [
       "<div>\n",
       "<style scoped>\n",
       "    .dataframe tbody tr th:only-of-type {\n",
       "        vertical-align: middle;\n",
       "    }\n",
       "\n",
       "    .dataframe tbody tr th {\n",
       "        vertical-align: top;\n",
       "    }\n",
       "\n",
       "    .dataframe thead th {\n",
       "        text-align: right;\n",
       "    }\n",
       "</style>\n",
       "<table border=\"1\" class=\"dataframe\">\n",
       "  <thead>\n",
       "    <tr style=\"text-align: right;\">\n",
       "      <th></th>\n",
       "      <th>Unnamed: 0</th>\n",
       "      <th>id</th>\n",
       "      <th>Gender</th>\n",
       "      <th>Customer Type</th>\n",
       "      <th>Age</th>\n",
       "      <th>Type of Travel</th>\n",
       "      <th>Class</th>\n",
       "      <th>Flight Distance</th>\n",
       "      <th>Inflight wifi service</th>\n",
       "      <th>Departure/Arrival time convenient</th>\n",
       "      <th>...</th>\n",
       "      <th>Inflight entertainment</th>\n",
       "      <th>On-board service</th>\n",
       "      <th>Leg room service</th>\n",
       "      <th>Baggage handling</th>\n",
       "      <th>Checkin service</th>\n",
       "      <th>Inflight service</th>\n",
       "      <th>Cleanliness</th>\n",
       "      <th>Departure Delay in Minutes</th>\n",
       "      <th>Arrival Delay in Minutes</th>\n",
       "      <th>satisfaction</th>\n",
       "    </tr>\n",
       "  </thead>\n",
       "  <tbody>\n",
       "    <tr>\n",
       "      <th>0</th>\n",
       "      <td>0</td>\n",
       "      <td>70172</td>\n",
       "      <td>Male</td>\n",
       "      <td>Loyal Customer</td>\n",
       "      <td>13</td>\n",
       "      <td>Personal Travel</td>\n",
       "      <td>Eco Plus</td>\n",
       "      <td>460</td>\n",
       "      <td>3</td>\n",
       "      <td>4</td>\n",
       "      <td>...</td>\n",
       "      <td>5</td>\n",
       "      <td>4</td>\n",
       "      <td>3</td>\n",
       "      <td>4</td>\n",
       "      <td>4</td>\n",
       "      <td>5</td>\n",
       "      <td>5</td>\n",
       "      <td>25</td>\n",
       "      <td>18.0</td>\n",
       "      <td>neutral or dissatisfied</td>\n",
       "    </tr>\n",
       "    <tr>\n",
       "      <th>1</th>\n",
       "      <td>1</td>\n",
       "      <td>5047</td>\n",
       "      <td>Male</td>\n",
       "      <td>disloyal Customer</td>\n",
       "      <td>25</td>\n",
       "      <td>Business travel</td>\n",
       "      <td>Business</td>\n",
       "      <td>235</td>\n",
       "      <td>3</td>\n",
       "      <td>2</td>\n",
       "      <td>...</td>\n",
       "      <td>1</td>\n",
       "      <td>1</td>\n",
       "      <td>5</td>\n",
       "      <td>3</td>\n",
       "      <td>1</td>\n",
       "      <td>4</td>\n",
       "      <td>1</td>\n",
       "      <td>1</td>\n",
       "      <td>6.0</td>\n",
       "      <td>neutral or dissatisfied</td>\n",
       "    </tr>\n",
       "    <tr>\n",
       "      <th>2</th>\n",
       "      <td>2</td>\n",
       "      <td>110028</td>\n",
       "      <td>Female</td>\n",
       "      <td>Loyal Customer</td>\n",
       "      <td>26</td>\n",
       "      <td>Business travel</td>\n",
       "      <td>Business</td>\n",
       "      <td>1142</td>\n",
       "      <td>2</td>\n",
       "      <td>2</td>\n",
       "      <td>...</td>\n",
       "      <td>5</td>\n",
       "      <td>4</td>\n",
       "      <td>3</td>\n",
       "      <td>4</td>\n",
       "      <td>4</td>\n",
       "      <td>4</td>\n",
       "      <td>5</td>\n",
       "      <td>0</td>\n",
       "      <td>0.0</td>\n",
       "      <td>satisfied</td>\n",
       "    </tr>\n",
       "    <tr>\n",
       "      <th>3</th>\n",
       "      <td>3</td>\n",
       "      <td>24026</td>\n",
       "      <td>Female</td>\n",
       "      <td>Loyal Customer</td>\n",
       "      <td>25</td>\n",
       "      <td>Business travel</td>\n",
       "      <td>Business</td>\n",
       "      <td>562</td>\n",
       "      <td>2</td>\n",
       "      <td>5</td>\n",
       "      <td>...</td>\n",
       "      <td>2</td>\n",
       "      <td>2</td>\n",
       "      <td>5</td>\n",
       "      <td>3</td>\n",
       "      <td>1</td>\n",
       "      <td>4</td>\n",
       "      <td>2</td>\n",
       "      <td>11</td>\n",
       "      <td>9.0</td>\n",
       "      <td>neutral or dissatisfied</td>\n",
       "    </tr>\n",
       "    <tr>\n",
       "      <th>4</th>\n",
       "      <td>4</td>\n",
       "      <td>119299</td>\n",
       "      <td>Male</td>\n",
       "      <td>Loyal Customer</td>\n",
       "      <td>61</td>\n",
       "      <td>Business travel</td>\n",
       "      <td>Business</td>\n",
       "      <td>214</td>\n",
       "      <td>3</td>\n",
       "      <td>3</td>\n",
       "      <td>...</td>\n",
       "      <td>3</td>\n",
       "      <td>3</td>\n",
       "      <td>4</td>\n",
       "      <td>4</td>\n",
       "      <td>3</td>\n",
       "      <td>3</td>\n",
       "      <td>3</td>\n",
       "      <td>0</td>\n",
       "      <td>0.0</td>\n",
       "      <td>satisfied</td>\n",
       "    </tr>\n",
       "  </tbody>\n",
       "</table>\n",
       "<p>5 rows × 25 columns</p>\n",
       "</div>"
      ],
      "text/plain": [
       "   Unnamed: 0      id  Gender      Customer Type  Age   Type of Travel  \\\n",
       "0           0   70172    Male     Loyal Customer   13  Personal Travel   \n",
       "1           1    5047    Male  disloyal Customer   25  Business travel   \n",
       "2           2  110028  Female     Loyal Customer   26  Business travel   \n",
       "3           3   24026  Female     Loyal Customer   25  Business travel   \n",
       "4           4  119299    Male     Loyal Customer   61  Business travel   \n",
       "\n",
       "      Class  Flight Distance  Inflight wifi service  \\\n",
       "0  Eco Plus              460                      3   \n",
       "1  Business              235                      3   \n",
       "2  Business             1142                      2   \n",
       "3  Business              562                      2   \n",
       "4  Business              214                      3   \n",
       "\n",
       "   Departure/Arrival time convenient  ...  Inflight entertainment  \\\n",
       "0                                  4  ...                       5   \n",
       "1                                  2  ...                       1   \n",
       "2                                  2  ...                       5   \n",
       "3                                  5  ...                       2   \n",
       "4                                  3  ...                       3   \n",
       "\n",
       "   On-board service  Leg room service  Baggage handling  Checkin service  \\\n",
       "0                 4                 3                 4                4   \n",
       "1                 1                 5                 3                1   \n",
       "2                 4                 3                 4                4   \n",
       "3                 2                 5                 3                1   \n",
       "4                 3                 4                 4                3   \n",
       "\n",
       "   Inflight service  Cleanliness  Departure Delay in Minutes  \\\n",
       "0                 5            5                          25   \n",
       "1                 4            1                           1   \n",
       "2                 4            5                           0   \n",
       "3                 4            2                          11   \n",
       "4                 3            3                           0   \n",
       "\n",
       "   Arrival Delay in Minutes             satisfaction  \n",
       "0                      18.0  neutral or dissatisfied  \n",
       "1                       6.0  neutral or dissatisfied  \n",
       "2                       0.0                satisfied  \n",
       "3                       9.0  neutral or dissatisfied  \n",
       "4                       0.0                satisfied  \n",
       "\n",
       "[5 rows x 25 columns]"
      ]
     },
     "execution_count": 2,
     "metadata": {},
     "output_type": "execute_result"
    }
   ],
   "source": [
    "# loading data\n",
    "df = pd.read_csv('train.csv')\n",
    "df.head()"
   ]
  },
  {
   "cell_type": "code",
   "execution_count": 3,
   "id": "0f2a0acd",
   "metadata": {},
   "outputs": [
    {
     "data": {
      "text/plain": [
       "(103904, 25)"
      ]
     },
     "execution_count": 3,
     "metadata": {},
     "output_type": "execute_result"
    }
   ],
   "source": [
    "# shape of data\n",
    "df.shape"
   ]
  },
  {
   "cell_type": "code",
   "execution_count": 4,
   "id": "9797edab",
   "metadata": {},
   "outputs": [
    {
     "name": "stdout",
     "output_type": "stream",
     "text": [
      "<class 'pandas.core.frame.DataFrame'>\n",
      "RangeIndex: 103904 entries, 0 to 103903\n",
      "Data columns (total 25 columns):\n",
      " #   Column                             Non-Null Count   Dtype  \n",
      "---  ------                             --------------   -----  \n",
      " 0   Unnamed: 0                         103904 non-null  int64  \n",
      " 1   id                                 103904 non-null  int64  \n",
      " 2   Gender                             103904 non-null  object \n",
      " 3   Customer Type                      103904 non-null  object \n",
      " 4   Age                                103904 non-null  int64  \n",
      " 5   Type of Travel                     103904 non-null  object \n",
      " 6   Class                              103904 non-null  object \n",
      " 7   Flight Distance                    103904 non-null  int64  \n",
      " 8   Inflight wifi service              103904 non-null  int64  \n",
      " 9   Departure/Arrival time convenient  103904 non-null  int64  \n",
      " 10  Ease of Online booking             103904 non-null  int64  \n",
      " 11  Gate location                      103904 non-null  int64  \n",
      " 12  Food and drink                     103904 non-null  int64  \n",
      " 13  Online boarding                    103904 non-null  int64  \n",
      " 14  Seat comfort                       103904 non-null  int64  \n",
      " 15  Inflight entertainment             103904 non-null  int64  \n",
      " 16  On-board service                   103904 non-null  int64  \n",
      " 17  Leg room service                   103904 non-null  int64  \n",
      " 18  Baggage handling                   103904 non-null  int64  \n",
      " 19  Checkin service                    103904 non-null  int64  \n",
      " 20  Inflight service                   103904 non-null  int64  \n",
      " 21  Cleanliness                        103904 non-null  int64  \n",
      " 22  Departure Delay in Minutes         103904 non-null  int64  \n",
      " 23  Arrival Delay in Minutes           103594 non-null  float64\n",
      " 24  satisfaction                       103904 non-null  object \n",
      "dtypes: float64(1), int64(19), object(5)\n",
      "memory usage: 19.8+ MB\n"
     ]
    }
   ],
   "source": [
    "df.info()"
   ]
  },
  {
   "cell_type": "code",
   "execution_count": 5,
   "id": "79cd7122",
   "metadata": {},
   "outputs": [],
   "source": [
    "# drop 2 columns 'Unnamed: 0', 'id'\n",
    "df.drop(columns=['Unnamed: 0', 'id'],inplace=True)"
   ]
  },
  {
   "cell_type": "code",
   "execution_count": 6,
   "id": "3f392e11",
   "metadata": {},
   "outputs": [
    {
     "data": {
      "text/plain": [
       "Gender                                 0\n",
       "Customer Type                          0\n",
       "Age                                    0\n",
       "Type of Travel                         0\n",
       "Class                                  0\n",
       "Flight Distance                        0\n",
       "Inflight wifi service                  0\n",
       "Departure/Arrival time convenient      0\n",
       "Ease of Online booking                 0\n",
       "Gate location                          0\n",
       "Food and drink                         0\n",
       "Online boarding                        0\n",
       "Seat comfort                           0\n",
       "Inflight entertainment                 0\n",
       "On-board service                       0\n",
       "Leg room service                       0\n",
       "Baggage handling                       0\n",
       "Checkin service                        0\n",
       "Inflight service                       0\n",
       "Cleanliness                            0\n",
       "Departure Delay in Minutes             0\n",
       "Arrival Delay in Minutes             310\n",
       "satisfaction                           0\n",
       "dtype: int64"
      ]
     },
     "execution_count": 6,
     "metadata": {},
     "output_type": "execute_result"
    }
   ],
   "source": [
    "# checking nan values\n",
    "df.isna().sum()"
   ]
  },
  {
   "cell_type": "markdown",
   "id": "842b46cc",
   "metadata": {},
   "source": [
    "### Arrival Delay in Minutes"
   ]
  },
  {
   "cell_type": "code",
   "execution_count": 7,
   "id": "516d5152",
   "metadata": {},
   "outputs": [
    {
     "data": {
      "text/plain": [
       "count    103594.000000\n",
       "mean         15.178678\n",
       "std          38.698682\n",
       "min           0.000000\n",
       "25%           0.000000\n",
       "50%           0.000000\n",
       "75%          13.000000\n",
       "max        1584.000000\n",
       "Name: Arrival Delay in Minutes, dtype: float64"
      ]
     },
     "execution_count": 7,
     "metadata": {},
     "output_type": "execute_result"
    }
   ],
   "source": [
    "df['Arrival Delay in Minutes'].describe()"
   ]
  },
  {
   "cell_type": "code",
   "execution_count": 8,
   "id": "ca5c74ff",
   "metadata": {},
   "outputs": [
    {
     "data": {
      "image/png": "[encoded data removed]",
      "text/plain": [
       "<Figure size 432x288 with 1 Axes>"
      ]
     },
     "metadata": {
      "needs_background": "light"
     },
     "output_type": "display_data"
    }
   ],
   "source": [
    "df['Arrival Delay in Minutes'].hist();"
   ]
  },
  {
   "cell_type": "markdown",
   "id": "722b7519",
   "metadata": {},
   "source": [
    "- **values in this column are right skewed so, I fill nan values with median**"
   ]
  },
  {
   "cell_type": "code",
   "execution_count": 9,
   "id": "1f78e9a9",
   "metadata": {},
   "outputs": [],
   "source": [
    "df['Arrival Delay in Minutes'].fillna(df['Arrival Delay in Minutes'].median(),inplace=True)"
   ]
  },
  {
   "cell_type": "code",
   "execution_count": 10,
   "id": "89fca0ce",
   "metadata": {},
   "outputs": [
    {
     "data": {
      "text/plain": [
       "Gender                               0\n",
       "Customer Type                        0\n",
       "Age                                  0\n",
       "Type of Travel                       0\n",
       "Class                                0\n",
       "Flight Distance                      0\n",
       "Inflight wifi service                0\n",
       "Departure/Arrival time convenient    0\n",
       "Ease of Online booking               0\n",
       "Gate location                        0\n",
       "Food and drink                       0\n",
       "Online boarding                      0\n",
       "Seat comfort                         0\n",
       "Inflight entertainment               0\n",
       "On-board service                     0\n",
       "Leg room service                     0\n",
       "Baggage handling                     0\n",
       "Checkin service                      0\n",
       "Inflight service                     0\n",
       "Cleanliness                          0\n",
       "Departure Delay in Minutes           0\n",
       "Arrival Delay in Minutes             0\n",
       "satisfaction                         0\n",
       "dtype: int64"
      ]
     },
     "execution_count": 10,
     "metadata": {},
     "output_type": "execute_result"
    }
   ],
   "source": [
    "df.isna().sum()"
   ]
  },
  {
   "cell_type": "markdown",
   "id": "8496fbce",
   "metadata": {},
   "source": [
    "- There is no nan values "
   ]
  },
  {
   "cell_type": "markdown",
   "id": "c70dae4a",
   "metadata": {},
   "source": [
    "### satisfaction                       "
   ]
  },
  {
   "cell_type": "code",
   "execution_count": 11,
   "id": "9597762b",
   "metadata": {},
   "outputs": [],
   "source": [
    "# define function countplot to visual any categorical data\n",
    "def countplot(df,x,hue=None):\n",
    "    print(x.value_counts())\n",
    "    sns.countplot(data=df, x=x)\n",
    "    plt.show()\n",
    "    sns.countplot(data=df, x=x, hue=hue)\n",
    "    plt.show()"
   ]
  },
  {
   "cell_type": "code",
   "execution_count": 12,
   "id": "01a9a0c4",
   "metadata": {},
   "outputs": [
    {
     "name": "stdout",
     "output_type": "stream",
     "text": [
      "neutral or dissatisfied    58879\n",
      "satisfied                  45025\n",
      "Name: satisfaction, dtype: int64\n"
     ]
    },
    {
     "data": {
      "image/png": "[encoded data removed]",
      "text/plain": [
       "<Figure size 432x288 with 1 Axes>"
      ]
     },
     "metadata": {
      "needs_background": "light"
     },
     "output_type": "display_data"
    },
    {
     "data": {
      "image/png": "[encoded data removed]",
      "text/plain": [
       "<Figure size 432x288 with 1 Axes>"
      ]
     },
     "metadata": {
      "needs_background": "light"
     },
     "output_type": "display_data"
    }
   ],
   "source": [
    "countplot(df,df['satisfaction']);"
   ]
  },
  {
   "cell_type": "markdown",
   "id": "27ab3db1",
   "metadata": {},
   "source": [
    "###  Gender "
   ]
  },
  {
   "cell_type": "code",
   "execution_count": 13,
   "id": "e7a106c9",
   "metadata": {},
   "outputs": [
    {
     "name": "stdout",
     "output_type": "stream",
     "text": [
      "Female    52727\n",
      "Male      51177\n",
      "Name: Gender, dtype: int64\n"
     ]
    },
    {
     "data": {
      "image/png": "[encoded data removed]",
      "text/plain": [
       "<Figure size 432x288 with 1 Axes>"
      ]
     },
     "metadata": {
      "needs_background": "light"
     },
     "output_type": "display_data"
    },
    {
     "data": {
      "image/png": "[encoded data removed]",
      "text/plain": [
       "<Figure size 432x288 with 1 Axes>"
      ]
     },
     "metadata": {
      "needs_background": "light"
     },
     "output_type": "display_data"
    }
   ],
   "source": [
    "countplot(df,df['Gender'],df['satisfaction']);"
   ]
  },
  {
   "cell_type": "markdown",
   "id": "1dadb1fd",
   "metadata": {},
   "source": [
    "### Customer type"
   ]
  },
  {
   "cell_type": "code",
   "execution_count": 14,
   "id": "47296cf5",
   "metadata": {},
   "outputs": [
    {
     "name": "stdout",
     "output_type": "stream",
     "text": [
      "Loyal Customer       84923\n",
      "disloyal Customer    18981\n",
      "Name: Customer Type, dtype: int64\n"
     ]
    },
    {
     "data": {
      "image/png": "[encoded data removed]",
      "text/plain": [
       "<Figure size 432x288 with 1 Axes>"
      ]
     },
     "metadata": {
      "needs_background": "light"
     },
     "output_type": "display_data"
    },
    {
     "data": {
      "image/png": "[encoded data removed]",
      "text/plain": [
       "<Figure size 432x288 with 1 Axes>"
      ]
     },
     "metadata": {
      "needs_background": "light"
     },
     "output_type": "display_data"
    }
   ],
   "source": [
    "countplot(df,df['Customer Type'],df['satisfaction']);"
   ]
  },
  {
   "cell_type": "markdown",
   "id": "05c08cef",
   "metadata": {},
   "source": [
    "### Type of Travel"
   ]
  },
  {
   "cell_type": "code",
   "execution_count": 15,
   "id": "86d7ac62",
   "metadata": {},
   "outputs": [
    {
     "name": "stdout",
     "output_type": "stream",
     "text": [
      "Business travel    71655\n",
      "Personal Travel    32249\n",
      "Name: Type of Travel, dtype: int64\n"
     ]
    },
    {
     "data": {
      "image/png": "[encoded data removed]",
      "text/plain": [
       "<Figure size 432x288 with 1 Axes>"
      ]
     },
     "metadata": {
      "needs_background": "light"
     },
     "output_type": "display_data"
    },
    {
     "data": {
      "image/png": "[encoded data removed]",
      "text/plain": [
       "<Figure size 432x288 with 1 Axes>"
      ]
     },
     "metadata": {
      "needs_background": "light"
     },
     "output_type": "display_data"
    }
   ],
   "source": [
    "countplot(df,df['Type of Travel'],df['satisfaction']);"
   ]
  },
  {
   "cell_type": "markdown",
   "id": "51521a14",
   "metadata": {},
   "source": [
    "### Class"
   ]
  },
  {
   "cell_type": "code",
   "execution_count": 16,
   "id": "376db21f",
   "metadata": {},
   "outputs": [
    {
     "name": "stdout",
     "output_type": "stream",
     "text": [
      "Business    49665\n",
      "Eco         46745\n",
      "Eco Plus     7494\n",
      "Name: Class, dtype: int64\n"
     ]
    },
    {
     "data": {
      "image/png": "[encoded data removed]",
      "text/plain": [
       "<Figure size 432x288 with 1 Axes>"
      ]
     },
     "metadata": {
      "needs_background": "light"
     },
     "output_type": "display_data"
    },
    {
     "data": {
      "image/png": "[encoded data removed]",
      "text/plain": [
       "<Figure size 432x288 with 1 Axes>"
      ]
     },
     "metadata": {
      "needs_background": "light"
     },
     "output_type": "display_data"
    }
   ],
   "source": [
    "countplot(df,df['Class'],df['satisfaction']);"
   ]
  },
  {
   "cell_type": "markdown",
   "id": "228e825c",
   "metadata": {},
   "source": [
    "**From these visuals**\n",
    "- if type of travel is business and class is business, they are likely to be satisfied\n",
    "- if class is ECO, the passengers are likely to dissatisfied or neutral"
   ]
  },
  {
   "cell_type": "code",
   "execution_count": 17,
   "id": "45065bab",
   "metadata": {},
   "outputs": [
    {
     "name": "stdout",
     "output_type": "stream",
     "text": [
      "<class 'pandas.core.frame.DataFrame'>\n",
      "RangeIndex: 103904 entries, 0 to 103903\n",
      "Data columns (total 23 columns):\n",
      " #   Column                             Non-Null Count   Dtype  \n",
      "---  ------                             --------------   -----  \n",
      " 0   Gender                             103904 non-null  object \n",
      " 1   Customer Type                      103904 non-null  object \n",
      " 2   Age                                103904 non-null  int64  \n",
      " 3   Type of Travel                     103904 non-null  object \n",
      " 4   Class                              103904 non-null  object \n",
      " 5   Flight Distance                    103904 non-null  int64  \n",
      " 6   Inflight wifi service              103904 non-null  int64  \n",
      " 7   Departure/Arrival time convenient  103904 non-null  int64  \n",
      " 8   Ease of Online booking             103904 non-null  int64  \n",
      " 9   Gate location                      103904 non-null  int64  \n",
      " 10  Food and drink                     103904 non-null  int64  \n",
      " 11  Online boarding                    103904 non-null  int64  \n",
      " 12  Seat comfort                       103904 non-null  int64  \n",
      " 13  Inflight entertainment             103904 non-null  int64  \n",
      " 14  On-board service                   103904 non-null  int64  \n",
      " 15  Leg room service                   103904 non-null  int64  \n",
      " 16  Baggage handling                   103904 non-null  int64  \n",
      " 17  Checkin service                    103904 non-null  int64  \n",
      " 18  Inflight service                   103904 non-null  int64  \n",
      " 19  Cleanliness                        103904 non-null  int64  \n",
      " 20  Departure Delay in Minutes         103904 non-null  int64  \n",
      " 21  Arrival Delay in Minutes           103904 non-null  float64\n",
      " 22  satisfaction                       103904 non-null  object \n",
      "dtypes: float64(1), int64(17), object(5)\n",
      "memory usage: 18.2+ MB\n"
     ]
    }
   ],
   "source": [
    "df.info()"
   ]
  },
  {
   "cell_type": "code",
   "execution_count": 18,
   "id": "566e1d35",
   "metadata": {},
   "outputs": [],
   "source": [
    "categorical_features = ['Gender','Customer Type','Type of Travel','Class','satisfaction']\n",
    "# df_numeric = df[]"
   ]
  },
  {
   "cell_type": "code",
   "execution_count": 19,
   "id": "739f930c",
   "metadata": {},
   "outputs": [
    {
     "data": {
      "text/html": [
       "<div>\n",
       "<style scoped>\n",
       "    .dataframe tbody tr th:only-of-type {\n",
       "        vertical-align: middle;\n",
       "    }\n",
       "\n",
       "    .dataframe tbody tr th {\n",
       "        vertical-align: top;\n",
       "    }\n",
       "\n",
       "    .dataframe thead th {\n",
       "        text-align: right;\n",
       "    }\n",
       "</style>\n",
       "<table border=\"1\" class=\"dataframe\">\n",
       "  <thead>\n",
       "    <tr style=\"text-align: right;\">\n",
       "      <th></th>\n",
       "      <th>Age</th>\n",
       "      <th>Flight Distance</th>\n",
       "      <th>Inflight wifi service</th>\n",
       "      <th>Departure/Arrival time convenient</th>\n",
       "      <th>Ease of Online booking</th>\n",
       "      <th>Gate location</th>\n",
       "      <th>Food and drink</th>\n",
       "      <th>Online boarding</th>\n",
       "      <th>Seat comfort</th>\n",
       "      <th>Inflight entertainment</th>\n",
       "      <th>On-board service</th>\n",
       "      <th>Leg room service</th>\n",
       "      <th>Baggage handling</th>\n",
       "      <th>Checkin service</th>\n",
       "      <th>Inflight service</th>\n",
       "      <th>Cleanliness</th>\n",
       "      <th>Departure Delay in Minutes</th>\n",
       "      <th>Arrival Delay in Minutes</th>\n",
       "    </tr>\n",
       "  </thead>\n",
       "  <tbody>\n",
       "    <tr>\n",
       "      <th>0</th>\n",
       "      <td>13</td>\n",
       "      <td>460</td>\n",
       "      <td>3</td>\n",
       "      <td>4</td>\n",
       "      <td>3</td>\n",
       "      <td>1</td>\n",
       "      <td>5</td>\n",
       "      <td>3</td>\n",
       "      <td>5</td>\n",
       "      <td>5</td>\n",
       "      <td>4</td>\n",
       "      <td>3</td>\n",
       "      <td>4</td>\n",
       "      <td>4</td>\n",
       "      <td>5</td>\n",
       "      <td>5</td>\n",
       "      <td>25</td>\n",
       "      <td>18.0</td>\n",
       "    </tr>\n",
       "    <tr>\n",
       "      <th>1</th>\n",
       "      <td>25</td>\n",
       "      <td>235</td>\n",
       "      <td>3</td>\n",
       "      <td>2</td>\n",
       "      <td>3</td>\n",
       "      <td>3</td>\n",
       "      <td>1</td>\n",
       "      <td>3</td>\n",
       "      <td>1</td>\n",
       "      <td>1</td>\n",
       "      <td>1</td>\n",
       "      <td>5</td>\n",
       "      <td>3</td>\n",
       "      <td>1</td>\n",
       "      <td>4</td>\n",
       "      <td>1</td>\n",
       "      <td>1</td>\n",
       "      <td>6.0</td>\n",
       "    </tr>\n",
       "    <tr>\n",
       "      <th>2</th>\n",
       "      <td>26</td>\n",
       "      <td>1142</td>\n",
       "      <td>2</td>\n",
       "      <td>2</td>\n",
       "      <td>2</td>\n",
       "      <td>2</td>\n",
       "      <td>5</td>\n",
       "      <td>5</td>\n",
       "      <td>5</td>\n",
       "      <td>5</td>\n",
       "      <td>4</td>\n",
       "      <td>3</td>\n",
       "      <td>4</td>\n",
       "      <td>4</td>\n",
       "      <td>4</td>\n",
       "      <td>5</td>\n",
       "      <td>0</td>\n",
       "      <td>0.0</td>\n",
       "    </tr>\n",
       "    <tr>\n",
       "      <th>3</th>\n",
       "      <td>25</td>\n",
       "      <td>562</td>\n",
       "      <td>2</td>\n",
       "      <td>5</td>\n",
       "      <td>5</td>\n",
       "      <td>5</td>\n",
       "      <td>2</td>\n",
       "      <td>2</td>\n",
       "      <td>2</td>\n",
       "      <td>2</td>\n",
       "      <td>2</td>\n",
       "      <td>5</td>\n",
       "      <td>3</td>\n",
       "      <td>1</td>\n",
       "      <td>4</td>\n",
       "      <td>2</td>\n",
       "      <td>11</td>\n",
       "      <td>9.0</td>\n",
       "    </tr>\n",
       "    <tr>\n",
       "      <th>4</th>\n",
       "      <td>61</td>\n",
       "      <td>214</td>\n",
       "      <td>3</td>\n",
       "      <td>3</td>\n",
       "      <td>3</td>\n",
       "      <td>3</td>\n",
       "      <td>4</td>\n",
       "      <td>5</td>\n",
       "      <td>5</td>\n",
       "      <td>3</td>\n",
       "      <td>3</td>\n",
       "      <td>4</td>\n",
       "      <td>4</td>\n",
       "      <td>3</td>\n",
       "      <td>3</td>\n",
       "      <td>3</td>\n",
       "      <td>0</td>\n",
       "      <td>0.0</td>\n",
       "    </tr>\n",
       "  </tbody>\n",
       "</table>\n",
       "</div>"
      ],
      "text/plain": [
       "   Age  Flight Distance  Inflight wifi service  \\\n",
       "0   13              460                      3   \n",
       "1   25              235                      3   \n",
       "2   26             1142                      2   \n",
       "3   25              562                      2   \n",
       "4   61              214                      3   \n",
       "\n",
       "   Departure/Arrival time convenient  Ease of Online booking  Gate location  \\\n",
       "0                                  4                       3              1   \n",
       "1                                  2                       3              3   \n",
       "2                                  2                       2              2   \n",
       "3                                  5                       5              5   \n",
       "4                                  3                       3              3   \n",
       "\n",
       "   Food and drink  Online boarding  Seat comfort  Inflight entertainment  \\\n",
       "0               5                3             5                       5   \n",
       "1               1                3             1                       1   \n",
       "2               5                5             5                       5   \n",
       "3               2                2             2                       2   \n",
       "4               4                5             5                       3   \n",
       "\n",
       "   On-board service  Leg room service  Baggage handling  Checkin service  \\\n",
       "0                 4                 3                 4                4   \n",
       "1                 1                 5                 3                1   \n",
       "2                 4                 3                 4                4   \n",
       "3                 2                 5                 3                1   \n",
       "4                 3                 4                 4                3   \n",
       "\n",
       "   Inflight service  Cleanliness  Departure Delay in Minutes  \\\n",
       "0                 5            5                          25   \n",
       "1                 4            1                           1   \n",
       "2                 4            5                           0   \n",
       "3                 4            2                          11   \n",
       "4                 3            3                           0   \n",
       "\n",
       "   Arrival Delay in Minutes  \n",
       "0                      18.0  \n",
       "1                       6.0  \n",
       "2                       0.0  \n",
       "3                       9.0  \n",
       "4                       0.0  "
      ]
     },
     "execution_count": 19,
     "metadata": {},
     "output_type": "execute_result"
    }
   ],
   "source": [
    "df_numeric = df.drop(columns=categorical_features)\n",
    "df_numeric.head()"
   ]
  },
  {
   "cell_type": "code",
   "execution_count": 20,
   "id": "35d2c742",
   "metadata": {},
   "outputs": [
    {
     "data": {
      "text/html": [
       "<div>\n",
       "<style scoped>\n",
       "    .dataframe tbody tr th:only-of-type {\n",
       "        vertical-align: middle;\n",
       "    }\n",
       "\n",
       "    .dataframe tbody tr th {\n",
       "        vertical-align: top;\n",
       "    }\n",
       "\n",
       "    .dataframe thead th {\n",
       "        text-align: right;\n",
       "    }\n",
       "</style>\n",
       "<table border=\"1\" class=\"dataframe\">\n",
       "  <thead>\n",
       "    <tr style=\"text-align: right;\">\n",
       "      <th></th>\n",
       "      <th>Age</th>\n",
       "      <th>Flight Distance</th>\n",
       "      <th>Inflight wifi service</th>\n",
       "      <th>Departure/Arrival time convenient</th>\n",
       "      <th>Ease of Online booking</th>\n",
       "      <th>Gate location</th>\n",
       "      <th>Food and drink</th>\n",
       "      <th>Online boarding</th>\n",
       "      <th>Seat comfort</th>\n",
       "      <th>Inflight entertainment</th>\n",
       "      <th>On-board service</th>\n",
       "      <th>Leg room service</th>\n",
       "      <th>Baggage handling</th>\n",
       "      <th>Checkin service</th>\n",
       "      <th>Inflight service</th>\n",
       "      <th>Cleanliness</th>\n",
       "      <th>Departure Delay in Minutes</th>\n",
       "      <th>Arrival Delay in Minutes</th>\n",
       "    </tr>\n",
       "  </thead>\n",
       "  <tbody>\n",
       "    <tr>\n",
       "      <th>count</th>\n",
       "      <td>103904.000000</td>\n",
       "      <td>103904.000000</td>\n",
       "      <td>103904.000000</td>\n",
       "      <td>103904.000000</td>\n",
       "      <td>103904.000000</td>\n",
       "      <td>103904.000000</td>\n",
       "      <td>103904.000000</td>\n",
       "      <td>103904.000000</td>\n",
       "      <td>103904.000000</td>\n",
       "      <td>103904.000000</td>\n",
       "      <td>103904.000000</td>\n",
       "      <td>103904.000000</td>\n",
       "      <td>103904.000000</td>\n",
       "      <td>103904.000000</td>\n",
       "      <td>103904.000000</td>\n",
       "      <td>103904.000000</td>\n",
       "      <td>103904.000000</td>\n",
       "      <td>103904.000000</td>\n",
       "    </tr>\n",
       "    <tr>\n",
       "      <th>mean</th>\n",
       "      <td>39.379706</td>\n",
       "      <td>1189.448375</td>\n",
       "      <td>2.729683</td>\n",
       "      <td>3.060296</td>\n",
       "      <td>2.756901</td>\n",
       "      <td>2.976883</td>\n",
       "      <td>3.202129</td>\n",
       "      <td>3.250375</td>\n",
       "      <td>3.439396</td>\n",
       "      <td>3.358158</td>\n",
       "      <td>3.382363</td>\n",
       "      <td>3.351055</td>\n",
       "      <td>3.631833</td>\n",
       "      <td>3.304290</td>\n",
       "      <td>3.640428</td>\n",
       "      <td>3.286351</td>\n",
       "      <td>14.815618</td>\n",
       "      <td>15.133392</td>\n",
       "    </tr>\n",
       "    <tr>\n",
       "      <th>std</th>\n",
       "      <td>15.114964</td>\n",
       "      <td>997.147281</td>\n",
       "      <td>1.327829</td>\n",
       "      <td>1.525075</td>\n",
       "      <td>1.398929</td>\n",
       "      <td>1.277621</td>\n",
       "      <td>1.329533</td>\n",
       "      <td>1.349509</td>\n",
       "      <td>1.319088</td>\n",
       "      <td>1.332991</td>\n",
       "      <td>1.288354</td>\n",
       "      <td>1.315605</td>\n",
       "      <td>1.180903</td>\n",
       "      <td>1.265396</td>\n",
       "      <td>1.175663</td>\n",
       "      <td>1.312273</td>\n",
       "      <td>38.230901</td>\n",
       "      <td>38.649776</td>\n",
       "    </tr>\n",
       "    <tr>\n",
       "      <th>min</th>\n",
       "      <td>7.000000</td>\n",
       "      <td>31.000000</td>\n",
       "      <td>0.000000</td>\n",
       "      <td>0.000000</td>\n",
       "      <td>0.000000</td>\n",
       "      <td>0.000000</td>\n",
       "      <td>0.000000</td>\n",
       "      <td>0.000000</td>\n",
       "      <td>0.000000</td>\n",
       "      <td>0.000000</td>\n",
       "      <td>0.000000</td>\n",
       "      <td>0.000000</td>\n",
       "      <td>1.000000</td>\n",
       "      <td>0.000000</td>\n",
       "      <td>0.000000</td>\n",
       "      <td>0.000000</td>\n",
       "      <td>0.000000</td>\n",
       "      <td>0.000000</td>\n",
       "    </tr>\n",
       "    <tr>\n",
       "      <th>25%</th>\n",
       "      <td>27.000000</td>\n",
       "      <td>414.000000</td>\n",
       "      <td>2.000000</td>\n",
       "      <td>2.000000</td>\n",
       "      <td>2.000000</td>\n",
       "      <td>2.000000</td>\n",
       "      <td>2.000000</td>\n",
       "      <td>2.000000</td>\n",
       "      <td>2.000000</td>\n",
       "      <td>2.000000</td>\n",
       "      <td>2.000000</td>\n",
       "      <td>2.000000</td>\n",
       "      <td>3.000000</td>\n",
       "      <td>3.000000</td>\n",
       "      <td>3.000000</td>\n",
       "      <td>2.000000</td>\n",
       "      <td>0.000000</td>\n",
       "      <td>0.000000</td>\n",
       "    </tr>\n",
       "    <tr>\n",
       "      <th>50%</th>\n",
       "      <td>40.000000</td>\n",
       "      <td>843.000000</td>\n",
       "      <td>3.000000</td>\n",
       "      <td>3.000000</td>\n",
       "      <td>3.000000</td>\n",
       "      <td>3.000000</td>\n",
       "      <td>3.000000</td>\n",
       "      <td>3.000000</td>\n",
       "      <td>4.000000</td>\n",
       "      <td>4.000000</td>\n",
       "      <td>4.000000</td>\n",
       "      <td>4.000000</td>\n",
       "      <td>4.000000</td>\n",
       "      <td>3.000000</td>\n",
       "      <td>4.000000</td>\n",
       "      <td>3.000000</td>\n",
       "      <td>0.000000</td>\n",
       "      <td>0.000000</td>\n",
       "    </tr>\n",
       "    <tr>\n",
       "      <th>75%</th>\n",
       "      <td>51.000000</td>\n",
       "      <td>1743.000000</td>\n",
       "      <td>4.000000</td>\n",
       "      <td>4.000000</td>\n",
       "      <td>4.000000</td>\n",
       "      <td>4.000000</td>\n",
       "      <td>4.000000</td>\n",
       "      <td>4.000000</td>\n",
       "      <td>5.000000</td>\n",
       "      <td>4.000000</td>\n",
       "      <td>4.000000</td>\n",
       "      <td>4.000000</td>\n",
       "      <td>5.000000</td>\n",
       "      <td>4.000000</td>\n",
       "      <td>5.000000</td>\n",
       "      <td>4.000000</td>\n",
       "      <td>12.000000</td>\n",
       "      <td>13.000000</td>\n",
       "    </tr>\n",
       "    <tr>\n",
       "      <th>max</th>\n",
       "      <td>85.000000</td>\n",
       "      <td>4983.000000</td>\n",
       "      <td>5.000000</td>\n",
       "      <td>5.000000</td>\n",
       "      <td>5.000000</td>\n",
       "      <td>5.000000</td>\n",
       "      <td>5.000000</td>\n",
       "      <td>5.000000</td>\n",
       "      <td>5.000000</td>\n",
       "      <td>5.000000</td>\n",
       "      <td>5.000000</td>\n",
       "      <td>5.000000</td>\n",
       "      <td>5.000000</td>\n",
       "      <td>5.000000</td>\n",
       "      <td>5.000000</td>\n",
       "      <td>5.000000</td>\n",
       "      <td>1592.000000</td>\n",
       "      <td>1584.000000</td>\n",
       "    </tr>\n",
       "  </tbody>\n",
       "</table>\n",
       "</div>"
      ],
      "text/plain": [
       "                 Age  Flight Distance  Inflight wifi service  \\\n",
       "count  103904.000000    103904.000000          103904.000000   \n",
       "mean       39.379706      1189.448375               2.729683   \n",
       "std        15.114964       997.147281               1.327829   \n",
       "min         7.000000        31.000000               0.000000   \n",
       "25%        27.000000       414.000000               2.000000   \n",
       "50%        40.000000       843.000000               3.000000   \n",
       "75%        51.000000      1743.000000               4.000000   \n",
       "max        85.000000      4983.000000               5.000000   \n",
       "\n",
       "       Departure/Arrival time convenient  Ease of Online booking  \\\n",
       "count                      103904.000000           103904.000000   \n",
       "mean                            3.060296                2.756901   \n",
       "std                             1.525075                1.398929   \n",
       "min                             0.000000                0.000000   \n",
       "25%                             2.000000                2.000000   \n",
       "50%                             3.000000                3.000000   \n",
       "75%                             4.000000                4.000000   \n",
       "max                             5.000000                5.000000   \n",
       "\n",
       "       Gate location  Food and drink  Online boarding   Seat comfort  \\\n",
       "count  103904.000000   103904.000000    103904.000000  103904.000000   \n",
       "mean        2.976883        3.202129         3.250375       3.439396   \n",
       "std         1.277621        1.329533         1.349509       1.319088   \n",
       "min         0.000000        0.000000         0.000000       0.000000   \n",
       "25%         2.000000        2.000000         2.000000       2.000000   \n",
       "50%         3.000000        3.000000         3.000000       4.000000   \n",
       "75%         4.000000        4.000000         4.000000       5.000000   \n",
       "max         5.000000        5.000000         5.000000       5.000000   \n",
       "\n",
       "       Inflight entertainment  On-board service  Leg room service  \\\n",
       "count           103904.000000     103904.000000     103904.000000   \n",
       "mean                 3.358158          3.382363          3.351055   \n",
       "std                  1.332991          1.288354          1.315605   \n",
       "min                  0.000000          0.000000          0.000000   \n",
       "25%                  2.000000          2.000000          2.000000   \n",
       "50%                  4.000000          4.000000          4.000000   \n",
       "75%                  4.000000          4.000000          4.000000   \n",
       "max                  5.000000          5.000000          5.000000   \n",
       "\n",
       "       Baggage handling  Checkin service  Inflight service    Cleanliness  \\\n",
       "count     103904.000000    103904.000000     103904.000000  103904.000000   \n",
       "mean           3.631833         3.304290          3.640428       3.286351   \n",
       "std            1.180903         1.265396          1.175663       1.312273   \n",
       "min            1.000000         0.000000          0.000000       0.000000   \n",
       "25%            3.000000         3.000000          3.000000       2.000000   \n",
       "50%            4.000000         3.000000          4.000000       3.000000   \n",
       "75%            5.000000         4.000000          5.000000       4.000000   \n",
       "max            5.000000         5.000000          5.000000       5.000000   \n",
       "\n",
       "       Departure Delay in Minutes  Arrival Delay in Minutes  \n",
       "count               103904.000000             103904.000000  \n",
       "mean                    14.815618                 15.133392  \n",
       "std                     38.230901                 38.649776  \n",
       "min                      0.000000                  0.000000  \n",
       "25%                      0.000000                  0.000000  \n",
       "50%                      0.000000                  0.000000  \n",
       "75%                     12.000000                 13.000000  \n",
       "max                   1592.000000               1584.000000  "
      ]
     },
     "execution_count": 20,
     "metadata": {},
     "output_type": "execute_result"
    }
   ],
   "source": [
    "df_numeric.describe()"
   ]
  },
  {
   "cell_type": "markdown",
   "id": "8185649b",
   "metadata": {},
   "source": [
    "### Departure and Arrival Delay in Minutes"
   ]
  },
  {
   "cell_type": "code",
   "execution_count": 21,
   "id": "b00d5239",
   "metadata": {},
   "outputs": [
    {
     "data": {
      "image/png": "[encoded data removed]",
      "text/plain": [
       "<Figure size 432x288 with 1 Axes>"
      ]
     },
     "metadata": {
      "needs_background": "light"
     },
     "output_type": "display_data"
    }
   ],
   "source": [
    "sns.boxplot(x=df['Departure Delay in Minutes']);"
   ]
  },
  {
   "cell_type": "code",
   "execution_count": 22,
   "id": "38aa7248",
   "metadata": {},
   "outputs": [
    {
     "data": {
      "image/png": "[encoded data removed]",
      "text/plain": [
       "<Figure size 432x288 with 1 Axes>"
      ]
     },
     "metadata": {
      "needs_background": "light"
     },
     "output_type": "display_data"
    }
   ],
   "source": [
    "sns.boxplot(x=df['Arrival Delay in Minutes']);"
   ]
  },
  {
   "cell_type": "code",
   "execution_count": 23,
   "id": "565c03d9",
   "metadata": {},
   "outputs": [],
   "source": [
    "def outlier(col):\n",
    "    q1 = col.quantile(0.25)\n",
    "    q3 = col.quantile(0.75)\n",
    "    iqr = q3 - q1\n",
    "    mx = q3 + 1.5*iqr\n",
    "    return mx"
   ]
  },
  {
   "cell_type": "code",
   "execution_count": 24,
   "id": "cc54340f",
   "metadata": {},
   "outputs": [],
   "source": [
    "mx_arrival = outlier(df['Arrival Delay in Minutes'])\n",
    "mx_departure = outlier(df['Departure Delay in Minutes'])"
   ]
  },
  {
   "cell_type": "code",
   "execution_count": 25,
   "id": "4bae88cd",
   "metadata": {},
   "outputs": [
    {
     "data": {
      "text/plain": [
       "13954"
      ]
     },
     "execution_count": 25,
     "metadata": {},
     "output_type": "execute_result"
    }
   ],
   "source": [
    "len(df[df['Arrival Delay in Minutes'] > mx_arrival])"
   ]
  },
  {
   "cell_type": "code",
   "execution_count": 26,
   "id": "d9ab01b2",
   "metadata": {},
   "outputs": [
    {
     "data": {
      "text/plain": [
       "14529"
      ]
     },
     "execution_count": 26,
     "metadata": {},
     "output_type": "execute_result"
    }
   ],
   "source": [
    "len(df[df['Departure Delay in Minutes'] > mx_departure])"
   ]
  },
  {
   "cell_type": "markdown",
   "id": "2124de40",
   "metadata": {},
   "source": [
    "#### Impute outlier values with median"
   ]
  },
  {
   "cell_type": "code",
   "execution_count": 27,
   "id": "918eea05",
   "metadata": {},
   "outputs": [],
   "source": [
    "for val in df['Arrival Delay in Minutes']:\n",
    "    if val > mx_arrival :\n",
    "            df['Arrival Delay in Minutes'] =  df['Arrival Delay in Minutes'].replace(val, df['Arrival Delay in Minutes'].median())"
   ]
  },
  {
   "cell_type": "code",
   "execution_count": 28,
   "id": "a5bc9fff",
   "metadata": {},
   "outputs": [],
   "source": [
    "for val in df['Departure Delay in Minutes']:\n",
    "        if val > mx_departure :\n",
    "            df['Departure Delay in Minutes'] =  df['Departure Delay in Minutes'].replace(val, df['Departure Delay in Minutes'].median())"
   ]
  },
  {
   "cell_type": "code",
   "execution_count": 29,
   "id": "881047d9",
   "metadata": {},
   "outputs": [
    {
     "data": {
      "image/png": "[encoded data removed]",
      "text/plain": [
       "<Figure size 432x288 with 1 Axes>"
      ]
     },
     "metadata": {
      "needs_background": "light"
     },
     "output_type": "display_data"
    }
   ],
   "source": [
    "sns.boxplot(x=df['Departure Delay in Minutes']);"
   ]
  },
  {
   "cell_type": "code",
   "execution_count": 30,
   "id": "654d52d8",
   "metadata": {},
   "outputs": [
    {
     "data": {
      "image/png": "[encoded data removed]",
      "text/plain": [
       "<Figure size 432x288 with 1 Axes>"
      ]
     },
     "metadata": {
      "needs_background": "light"
     },
     "output_type": "display_data"
    }
   ],
   "source": [
    "sns.boxplot(x=df['Arrival Delay in Minutes']);"
   ]
  },
  {
   "cell_type": "markdown",
   "id": "a32942af",
   "metadata": {},
   "source": [
    "### Flight Distance"
   ]
  },
  {
   "cell_type": "code",
   "execution_count": 31,
   "id": "32c809c6",
   "metadata": {},
   "outputs": [
    {
     "data": {
      "image/png": "[encoded data removed]",
      "text/plain": [
       "<Figure size 432x288 with 1 Axes>"
      ]
     },
     "metadata": {
      "needs_background": "light"
     },
     "output_type": "display_data"
    }
   ],
   "source": [
    "sns.boxplot(x=df['Flight Distance']);"
   ]
  },
  {
   "cell_type": "code",
   "execution_count": 32,
   "id": "1d0a9560",
   "metadata": {},
   "outputs": [
    {
     "data": {
      "text/plain": [
       "3736.5"
      ]
     },
     "execution_count": 32,
     "metadata": {},
     "output_type": "execute_result"
    }
   ],
   "source": [
    "max_flight = outlier(df['Flight Distance'])\n",
    "max_flight"
   ]
  },
  {
   "cell_type": "code",
   "execution_count": 33,
   "id": "bc8fc19e",
   "metadata": {},
   "outputs": [
    {
     "data": {
      "text/plain": [
       "2291"
      ]
     },
     "execution_count": 33,
     "metadata": {},
     "output_type": "execute_result"
    }
   ],
   "source": [
    "len(df[df['Flight Distance'] > max_flight])"
   ]
  },
  {
   "cell_type": "code",
   "execution_count": 34,
   "id": "a8772d85",
   "metadata": {},
   "outputs": [],
   "source": [
    "for val in df['Flight Distance']:\n",
    "        if val > max_flight :\n",
    "            df['Flight Distance'] =  df['Flight Distance'].replace(val, df['Flight Distance'].median())"
   ]
  },
  {
   "cell_type": "code",
   "execution_count": 35,
   "id": "0d70b671",
   "metadata": {},
   "outputs": [
    {
     "data": {
      "text/plain": [
       "<AxesSubplot:>"
      ]
     },
     "execution_count": 35,
     "metadata": {},
     "output_type": "execute_result"
    },
    {
     "data": {
      "image/png": "[encoded data removed]",
      "text/plain": [
       "<Figure size 432x288 with 2 Axes>"
      ]
     },
     "metadata": {
      "needs_background": "light"
     },
     "output_type": "display_data"
    }
   ],
   "source": [
    "sns.heatmap(df_numeric.corr())"
   ]
  },
  {
   "cell_type": "markdown",
   "id": "3a63b672",
   "metadata": {},
   "source": [
    "### Encoding categorical data"
   ]
  },
  {
   "cell_type": "code",
   "execution_count": 36,
   "id": "505f8071",
   "metadata": {},
   "outputs": [
    {
     "data": {
      "text/plain": [
       "['Gender', 'Customer Type', 'Type of Travel', 'Class', 'satisfaction']"
      ]
     },
     "execution_count": 36,
     "metadata": {},
     "output_type": "execute_result"
    }
   ],
   "source": [
    "categorical_features"
   ]
  },
  {
   "cell_type": "markdown",
   "id": "4be69fc4",
   "metadata": {},
   "source": [
    "#### Gender"
   ]
  },
  {
   "cell_type": "code",
   "execution_count": 37,
   "id": "38eec657",
   "metadata": {},
   "outputs": [
    {
     "data": {
      "text/plain": [
       "array(['Male', 'Female'], dtype=object)"
      ]
     },
     "execution_count": 37,
     "metadata": {},
     "output_type": "execute_result"
    }
   ],
   "source": [
    "df['Gender'].unique()"
   ]
  },
  {
   "cell_type": "code",
   "execution_count": 38,
   "id": "43dc9ecc",
   "metadata": {},
   "outputs": [],
   "source": [
    "df['Gender'] = df['Gender'].map({'Male':0,'Female':1})"
   ]
  },
  {
   "cell_type": "markdown",
   "id": "179582e8",
   "metadata": {},
   "source": [
    "#### Customer Type"
   ]
  },
  {
   "cell_type": "code",
   "execution_count": 39,
   "id": "60d4576f",
   "metadata": {},
   "outputs": [
    {
     "data": {
      "text/plain": [
       "array(['Loyal Customer', 'disloyal Customer'], dtype=object)"
      ]
     },
     "execution_count": 39,
     "metadata": {},
     "output_type": "execute_result"
    }
   ],
   "source": [
    "df['Customer Type'].unique()"
   ]
  },
  {
   "cell_type": "code",
   "execution_count": 40,
   "id": "a165b5ba",
   "metadata": {},
   "outputs": [],
   "source": [
    "df['Customer Type'] = df['Customer Type'].map({'Loyal Customer':0,'disloyal Customer':1})"
   ]
  },
  {
   "cell_type": "markdown",
   "id": "d44fca26",
   "metadata": {},
   "source": [
    "#### Type of Travel"
   ]
  },
  {
   "cell_type": "code",
   "execution_count": 41,
   "id": "a57391fe",
   "metadata": {},
   "outputs": [
    {
     "data": {
      "text/plain": [
       "array(['Personal Travel', 'Business travel'], dtype=object)"
      ]
     },
     "execution_count": 41,
     "metadata": {},
     "output_type": "execute_result"
    }
   ],
   "source": [
    "df['Type of Travel'].unique()"
   ]
  },
  {
   "cell_type": "code",
   "execution_count": 42,
   "id": "b93277c4",
   "metadata": {},
   "outputs": [],
   "source": [
    "df['Type of Travel'] = df['Type of Travel'].map({'Personal Travel':0,'Business travel':1})"
   ]
  },
  {
   "cell_type": "markdown",
   "id": "a5e4911a",
   "metadata": {},
   "source": [
    "#### Class"
   ]
  },
  {
   "cell_type": "code",
   "execution_count": 43,
   "id": "3ebad4e2",
   "metadata": {},
   "outputs": [
    {
     "data": {
      "text/plain": [
       "array(['Eco Plus', 'Business', 'Eco'], dtype=object)"
      ]
     },
     "execution_count": 43,
     "metadata": {},
     "output_type": "execute_result"
    }
   ],
   "source": [
    "df['Class'].unique()"
   ]
  },
  {
   "cell_type": "code",
   "execution_count": 44,
   "id": "8e4c5d84",
   "metadata": {},
   "outputs": [],
   "source": [
    "df['Class'] = df['Class'].map({'Eco Plus':0,'Business':1, 'Eco':2})"
   ]
  },
  {
   "cell_type": "markdown",
   "id": "206668f6",
   "metadata": {},
   "source": [
    "#### satisfaction"
   ]
  },
  {
   "cell_type": "code",
   "execution_count": 45,
   "id": "f8b111e6",
   "metadata": {},
   "outputs": [
    {
     "data": {
      "text/plain": [
       "array(['neutral or dissatisfied', 'satisfied'], dtype=object)"
      ]
     },
     "execution_count": 45,
     "metadata": {},
     "output_type": "execute_result"
    }
   ],
   "source": [
    "df['satisfaction'].unique()"
   ]
  },
  {
   "cell_type": "code",
   "execution_count": 46,
   "id": "d057914e",
   "metadata": {},
   "outputs": [],
   "source": [
    "df['satisfaction'] = df['satisfaction'].map({'neutral or dissatisfied':0,'satisfied':1})"
   ]
  },
  {
   "cell_type": "code",
   "execution_count": 47,
   "id": "5bfad51a",
   "metadata": {},
   "outputs": [
    {
     "name": "stdout",
     "output_type": "stream",
     "text": [
      "<class 'pandas.core.frame.DataFrame'>\n",
      "RangeIndex: 103904 entries, 0 to 103903\n",
      "Data columns (total 23 columns):\n",
      " #   Column                             Non-Null Count   Dtype  \n",
      "---  ------                             --------------   -----  \n",
      " 0   Gender                             103904 non-null  int64  \n",
      " 1   Customer Type                      103904 non-null  int64  \n",
      " 2   Age                                103904 non-null  int64  \n",
      " 3   Type of Travel                     103904 non-null  int64  \n",
      " 4   Class                              103904 non-null  int64  \n",
      " 5   Flight Distance                    103904 non-null  int64  \n",
      " 6   Inflight wifi service              103904 non-null  int64  \n",
      " 7   Departure/Arrival time convenient  103904 non-null  int64  \n",
      " 8   Ease of Online booking             103904 non-null  int64  \n",
      " 9   Gate location                      103904 non-null  int64  \n",
      " 10  Food and drink                     103904 non-null  int64  \n",
      " 11  Online boarding                    103904 non-null  int64  \n",
      " 12  Seat comfort                       103904 non-null  int64  \n",
      " 13  Inflight entertainment             103904 non-null  int64  \n",
      " 14  On-board service                   103904 non-null  int64  \n",
      " 15  Leg room service                   103904 non-null  int64  \n",
      " 16  Baggage handling                   103904 non-null  int64  \n",
      " 17  Checkin service                    103904 non-null  int64  \n",
      " 18  Inflight service                   103904 non-null  int64  \n",
      " 19  Cleanliness                        103904 non-null  int64  \n",
      " 20  Departure Delay in Minutes         103904 non-null  int64  \n",
      " 21  Arrival Delay in Minutes           103904 non-null  float64\n",
      " 22  satisfaction                       103904 non-null  int64  \n",
      "dtypes: float64(1), int64(22)\n",
      "memory usage: 18.2 MB\n"
     ]
    }
   ],
   "source": [
    "df.info()"
   ]
  },
  {
   "cell_type": "markdown",
   "id": "87bf53f8",
   "metadata": {},
   "source": [
    "### split data and building model"
   ]
  },
  {
   "cell_type": "code",
   "execution_count": 48,
   "id": "cafb7e24",
   "metadata": {},
   "outputs": [],
   "source": [
    "X = df.drop(columns='satisfaction')\n",
    "y = df['satisfaction']"
   ]
  },
  {
   "cell_type": "code",
   "execution_count": 49,
   "id": "65bdd621",
   "metadata": {},
   "outputs": [
    {
     "name": "stdout",
     "output_type": "stream",
     "text": [
      "(103904, 22)\n",
      "(103904,)\n"
     ]
    }
   ],
   "source": [
    "print(X.shape)\n",
    "print(y.shape)"
   ]
  },
  {
   "cell_type": "code",
   "execution_count": 50,
   "id": "2d364366",
   "metadata": {},
   "outputs": [],
   "source": [
    "from sklearn.model_selection import train_test_split\n",
    "X_train, X_test, y_train, y_test = train_test_split(X, y, test_size=0.3, random_state=42)"
   ]
  },
  {
   "cell_type": "code",
   "execution_count": 51,
   "id": "fd0e60a5",
   "metadata": {},
   "outputs": [],
   "source": [
    "from sklearn.preprocessing import MinMaxScaler\n",
    "min_max = MinMaxScaler()\n",
    "X_train = min_max.fit_transform(X_train)\n",
    "X_test = min_max.transform(X_test)"
   ]
  },
  {
   "cell_type": "markdown",
   "id": "e7c2baa2",
   "metadata": {},
   "source": [
    "### XGboost"
   ]
  },
  {
   "cell_type": "code",
   "execution_count": 52,
   "id": "b2ded515",
   "metadata": {},
   "outputs": [],
   "source": [
    "from xgboost import XGBClassifier\n",
    "from sklearn.metrics import classification_report, accuracy_score\n",
    "\n",
    "model_xg = XGBClassifier()\n",
    "model_xg.fit(X_train,y_train)\n",
    "pred_xg = model_xg.predict(X_test)"
   ]
  },
  {
   "cell_type": "markdown",
   "id": "b2395fc8",
   "metadata": {},
   "source": [
    "### LGBMClassifier"
   ]
  },
  {
   "cell_type": "code",
   "execution_count": 53,
   "id": "0135ce99",
   "metadata": {},
   "outputs": [],
   "source": [
    "import lightgbm as ltb\n",
    "model_lgbm = ltb.LGBMClassifier()\n",
    "model_lgbm.fit(X_train,y_train)\n",
    "pred_lgbm = model_lgbm.predict(X_test)"
   ]
  },
  {
   "cell_type": "markdown",
   "id": "b8da473f",
   "metadata": {},
   "source": [
    "### RandomForest"
   ]
  },
  {
   "cell_type": "code",
   "execution_count": 54,
   "id": "a8cc2ec3",
   "metadata": {},
   "outputs": [],
   "source": [
    "from sklearn.ensemble import RandomForestClassifier\n",
    "\n",
    "model_forest = RandomForestClassifier()\n",
    "model_forest.fit(X_train,y_train)\n",
    "pred_forest = model_forest.predict(X_test)"
   ]
  },
  {
   "cell_type": "markdown",
   "id": "05625cce",
   "metadata": {},
   "source": [
    "## Evaluation Models"
   ]
  },
  {
   "cell_type": "code",
   "execution_count": 55,
   "id": "d7bd4c44",
   "metadata": {},
   "outputs": [
    {
     "data": {
      "text/html": [
       "<div>\n",
       "<style scoped>\n",
       "    .dataframe tbody tr th:only-of-type {\n",
       "        vertical-align: middle;\n",
       "    }\n",
       "\n",
       "    .dataframe tbody tr th {\n",
       "        vertical-align: top;\n",
       "    }\n",
       "\n",
       "    .dataframe thead th {\n",
       "        text-align: right;\n",
       "    }\n",
       "</style>\n",
       "<table border=\"1\" class=\"dataframe\">\n",
       "  <thead>\n",
       "    <tr style=\"text-align: right;\">\n",
       "      <th></th>\n",
       "      <th>XGBClassifier</th>\n",
       "      <th>LGBMClassifier</th>\n",
       "      <th>RandomForestClassifier</th>\n",
       "    </tr>\n",
       "  </thead>\n",
       "  <tbody>\n",
       "    <tr>\n",
       "      <th>0</th>\n",
       "      <td>0.961279</td>\n",
       "      <td>0.96298</td>\n",
       "      <td>0.962049</td>\n",
       "    </tr>\n",
       "  </tbody>\n",
       "</table>\n",
       "</div>"
      ],
      "text/plain": [
       "   XGBClassifier  LGBMClassifier  RandomForestClassifier\n",
       "0       0.961279         0.96298                0.962049"
      ]
     },
     "execution_count": 55,
     "metadata": {},
     "output_type": "execute_result"
    }
   ],
   "source": [
    "models = {'XGBClassifier':accuracy_score(y_test,pred_xg),\n",
    "         'LGBMClassifier':accuracy_score(y_test,pred_lgbm),\n",
    "          'RandomForestClassifier':accuracy_score(y_test,pred_forest)\n",
    "         }\n",
    "\n",
    "pd.DataFrame(models, index=[0])"
   ]
  },
  {
   "cell_type": "code",
   "execution_count": null,
   "id": "38a2768b",
   "metadata": {},
   "outputs": [],
   "source": []
  },
  {
   "cell_type": "code",
   "execution_count": 56,
   "id": "48fa9e3c",
   "metadata": {},
   "outputs": [
    {
     "name": "stdout",
     "output_type": "stream",
     "text": [
      "XGBClassifier\n",
      "              precision    recall  f1-score   support\n",
      "\n",
      "           0       0.96      0.98      0.97     17555\n",
      "           1       0.97      0.94      0.96     13617\n",
      "\n",
      "    accuracy                           0.96     31172\n",
      "   macro avg       0.96      0.96      0.96     31172\n",
      "weighted avg       0.96      0.96      0.96     31172\n",
      "\n",
      "----------------------------------------\n",
      "LGBMClassifier\n",
      "              precision    recall  f1-score   support\n",
      "\n",
      "           0       0.95      0.98      0.97     17555\n",
      "           1       0.97      0.94      0.96     13617\n",
      "\n",
      "    accuracy                           0.96     31172\n",
      "   macro avg       0.96      0.96      0.96     31172\n",
      "weighted avg       0.96      0.96      0.96     31172\n",
      "\n",
      "----------------------------------------\n",
      "RandomForestClassifier\n",
      "              precision    recall  f1-score   support\n",
      "\n",
      "           0       0.95      0.98      0.97     17555\n",
      "           1       0.97      0.94      0.96     13617\n",
      "\n",
      "    accuracy                           0.96     31172\n",
      "   macro avg       0.96      0.96      0.96     31172\n",
      "weighted avg       0.96      0.96      0.96     31172\n",
      "\n"
     ]
    }
   ],
   "source": [
    "print('XGBClassifier')\n",
    "print(classification_report(y_test,pred_xg))\n",
    "print('----------------------------------------')\n",
    "print('LGBMClassifier')\n",
    "print(classification_report(y_test,pred_lgbm))\n",
    "print('----------------------------------------')\n",
    "print('RandomForestClassifier')\n",
    "print(classification_report(y_test,pred_forest))"
   ]
  },
  {
   "cell_type": "markdown",
   "id": "75c15bd8",
   "metadata": {},
   "source": [
    "### Accuracy is similar in all three models"
   ]
  },
  {
   "cell_type": "code",
   "execution_count": null,
   "id": "0da55f77",
   "metadata": {},
   "outputs": [],
   "source": []
  }
 ],
 "metadata": {
  "kernelspec": {
   "display_name": "Python 3 (ipykernel)",
   "language": "python",
   "name": "python3"
  },
  "language_info": {
   "codemirror_mode": {
    "name": "ipython",
    "version": 3
   },
   "file_extension": ".py",
   "mimetype": "text/x-python",
   "name": "python",
   "nbconvert_exporter": "python",
   "pygments_lexer": "ipython3",
   "version": "3.9.7"
  }
 },
 "nbformat": 4,
 "nbformat_minor": 5
}
